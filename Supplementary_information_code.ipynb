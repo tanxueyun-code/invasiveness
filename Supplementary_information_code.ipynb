{
 "cells": [
  {
   "cell_type": "code",
   "execution_count": 2,
   "id": "95826e71",
   "metadata": {},
   "outputs": [],
   "source": [
    "import torch\n",
    "import torch.nn as nn\n",
    "import torch.nn.functional as F\n",
    "import torch.optim as optim\n",
    "from torch.optim import lr_scheduler\n",
    "from transformers import optimization\n",
    "\n",
    "import torchvision\n",
    "from torchvision import datasets, models, transforms\n",
    "from torchvision.transforms import AutoAugmentPolicy, AutoAugment\n",
    "from torchvision.ops.misc import ConvNormActivation, SqueezeExcitation\n",
    "from functools import partial\n",
    "\n",
    "import numpy as np\n",
    "import matplotlib.pyplot as plot\n",
    "import pandas as pd\n",
    "import matplotlib.pyplot as plt\n",
    "import copy\n",
    "from tqdm.notebook import tqdm\n",
    "import sklearn.metrics as metrics\n",
    "import time\n",
    "import os\n",
    "import copy\n",
    "from tqdm import tqdm\n",
    "from PIL import Image\n",
    "import csv\n",
    "from sklearn.metrics import confusion_matrix, classification_report, roc_auc_score, roc_curve, auc"
   ]
  },
  {
   "cell_type": "code",
   "execution_count": 3,
   "id": "4a60c1f1",
   "metadata": {},
   "outputs": [
    {
     "name": "stdout",
     "output_type": "stream",
     "text": [
      "1.12.1\n",
      "True\n"
     ]
    }
   ],
   "source": [
    "print(torch.__version__)\n",
    "print(torch.cuda.is_available())"
   ]
  },
  {
   "cell_type": "markdown",
   "id": "4ba90724-ab79-42f9-bc92-1b4674b4c1d1",
   "metadata": {},
   "source": [
    "# Set up configs"
   ]
  },
  {
   "cell_type": "code",
   "execution_count": 4,
   "id": "097b0b7e-a36d-4411-8e7a-e5e04c75b857",
   "metadata": {},
   "outputs": [],
   "source": [
    "# Modify the hyperparameters\n",
    "num_classes = 5  # Number of classes in your dataset\n",
    "batch_size = 30  # Set up batch size\n",
    "num_epochs = 100\n",
    "learning_rate = 0.001  # Set the desired learning rate\n",
    "early_stopping = False\n",
    "model_checkpoint_path = '/root/autodl-nas/TXY/models'\n",
    "tensorboard_dir = '/root/autodl-nas/TXY/tensorbord'\n",
    "log_file_dir = '/root/autodl-nas/TXY/log'\n",
    "model_name = 'EfficientNet_b5'\n",
    "\n",
    "# Define the base directory where the images are located\n",
    "base_dir = \"/root/autodl-nas/TXY/lung_pathology\"\n",
    "\n",
    "# Define paths\n",
    "dataset_path = \"/root/autodl-nas/TXY/lung_pathology\"\n",
    "labels_path = \"/root/autodl-nas/TXY/lung_pathology/file.csv\"\n",
    "\n",
    "# Define saved json paths\n",
    "train_json_path = \"/root/autodl-nas/TXY/lung_pathology/train_dataset.json\"\n",
    "val_json_path = \"/root/autodl-nas/TXY/lung_pathology/val_dataset.json\"\n",
    "test_json_path = \"/root/autodl-nas/TXY/lung_pathology/test_dataset.json\""
   ]
  },
  {
   "cell_type": "markdown",
   "id": "627e04b5",
   "metadata": {
    "tags": []
   },
   "source": [
    "# Load CSV file and get labels"
   ]
  },
  {
   "cell_type": "code",
   "execution_count": 5,
   "id": "5bda0960-6eed-4f9a-a0d1-e5c48130d068",
   "metadata": {},
   "outputs": [
    {
     "name": "stdout",
     "output_type": "stream",
     "text": [
      "Total samples: 6095\n",
      "Train samples: 4266\n",
      "Validation samples: 609\n",
      "Test samples: 1220\n",
      "Train set JSON file saved to: /root/autodl-nas/TXY/lung_pathology/train_dataset.json\n",
      "Validation set JSON file saved to: /root/autodl-nas/TXY/lung_pathology/val_dataset.json\n",
      "Test set JSON file saved to: /root/autodl-nas/TXY/lung_pathology/test_dataset.json\n"
     ]
    }
   ],
   "source": [
    "import os\n",
    "import random\n",
    "import json\n",
    "\n",
    "# Enable interactive mode\n",
    "plt.ion()\n",
    "\n",
    "# Load labels and file names from CSV\n",
    "import pandas as pd\n",
    "csv_file = pd.read_csv(labels_path)\n",
    "\n",
    "# Shuffle the file names\n",
    "file_names = csv_file['filename'].tolist()\n",
    "random.shuffle(file_names)\n",
    "\n",
    "# Calculate the number of samples for each split\n",
    "total_samples = len(file_names)\n",
    "train_ratio = 0.7\n",
    "val_ratio = 0.1\n",
    "\n",
    "num_train = int(total_samples * train_ratio)\n",
    "num_val = int(total_samples * val_ratio)\n",
    "num_test = total_samples - num_train - num_val\n",
    "\n",
    "# Split the file names into train, validation, and test sets\n",
    "train_file_names = file_names[:num_train]\n",
    "val_file_names = file_names[num_train:num_train + num_val]\n",
    "test_file_names = file_names[num_train + num_val:]\n",
    "\n",
    "# Function to find the label for a given file name\n",
    "def find_label(file_name):\n",
    "    return csv_file.loc[csv_file['filename'] == file_name, 'label'].values[0]\n",
    "\n",
    "# Function to get the file path given the file name\n",
    "def get_file_path(file_name):\n",
    "    for root, dirs, files in os.walk(dataset_path):\n",
    "        if file_name in files:\n",
    "            return os.path.abspath(os.path.join(root, file_name))\n",
    "\n",
    "# Create dictionaries for the train, validation, and test sets\n",
    "train_dict = []\n",
    "val_dict = []\n",
    "test_dict = []\n",
    "\n",
    "# Fill the dictionaries with file paths and labels\n",
    "for file_name in train_file_names:\n",
    "    label = find_label(file_name)\n",
    "    file_path = get_file_path(file_name)  # Complete file path\n",
    "    train_dict.append({\"file_name\": file_name, \"file_path\": file_path, \"label\": label})\n",
    "\n",
    "for file_name in val_file_names:\n",
    "    label = find_label(file_name)\n",
    "    file_path = get_file_path(file_name)  # Complete file path\n",
    "    val_dict.append({\"file_name\": file_name, \"file_path\": file_path, \"label\": label})\n",
    "\n",
    "for file_name in test_file_names:\n",
    "    label = find_label(file_name)\n",
    "    file_path = get_file_path(file_name)  # Complete file path\n",
    "    test_dict.append({\"file_name\": file_name, \"file_path\": file_path, \"label\": label})\n",
    "\n",
    "# Save the dictionaries as separate JSON files\n",
    "with open(train_json_path, 'w') as train_file:\n",
    "    json.dump(train_dict, train_file)\n",
    "\n",
    "with open(val_json_path, 'w') as val_file:\n",
    "    json.dump(val_dict, val_file)\n",
    "\n",
    "with open(test_json_path, 'w') as test_file:\n",
    "    json.dump(test_dict, test_file)\n",
    "\n",
    "# Print the summary\n",
    "print(f\"Total samples: {total_samples}\")\n",
    "print(f\"Train samples: {num_train}\")\n",
    "print(f\"Validation samples: {num_val}\")\n",
    "print(f\"Test samples: {num_test}\")\n",
    "print(f\"Train set JSON file saved to: {train_json_path}\")\n",
    "print(f\"Validation set JSON file saved to: {val_json_path}\")\n",
    "print(f\"Test set JSON file saved to: {test_json_path}\")\n"
   ]
  },
  {
   "cell_type": "markdown",
   "id": "d61f2c46",
   "metadata": {
    "tags": []
   },
   "source": [
    "# Calculate the mean and std for images"
   ]
  },
  {
   "cell_type": "code",
   "execution_count": 6,
   "id": "2c9be0a5-c6ba-4d66-95db-c6094a7099f5",
   "metadata": {},
   "outputs": [
    {
     "name": "stdout",
     "output_type": "stream",
     "text": [
      "Channel R: Mean=0.749, Std=0.124\n",
      "Channel G: Mean=0.574, Std=0.161\n",
      "Channel B: Mean=0.702, Std=0.099\n",
      "Mean List: [0.7487631440162659, 0.5741699934005737, 0.701752781867981]\n",
      "Std List: [0.1239641010761261, 0.16146358847618103, 0.09935591369867325]\n"
     ]
    }
   ],
   "source": [
    "import json\n",
    "import os\n",
    "import torch\n",
    "import torchvision.transforms as transforms\n",
    "from PIL import Image\n",
    "\n",
    "# Define the transformation for calculating mean and standard deviation\n",
    "transform = transforms.Compose([\n",
    "    transforms.Resize((224, 224)),\n",
    "    transforms.ToTensor()\n",
    "])\n",
    "\n",
    "# Variables for accumulating pixel values\n",
    "sum_channels = torch.zeros(3)\n",
    "sum_squared_diffs = torch.zeros(3)\n",
    "num_pixels = 0\n",
    "\n",
    "# Load the JSON file\n",
    "with open(train_json_path, 'r') as f:\n",
    "    dataset_dict = json.load(f)\n",
    "\n",
    "# Function to recursively find image files in a directory\n",
    "def find_image_files(directory):\n",
    "    image_files = []\n",
    "    for root, dirs, files in os.walk(directory):\n",
    "        for file in files:\n",
    "            if file.lower().endswith(('.jpg', '.jpeg', '.png', '.bmp', '.tif', '.tiff')):\n",
    "                image_files.append(os.path.join(root, file))\n",
    "    return image_files\n",
    "\n",
    "# Iterate over the images in the dataset\n",
    "for item in dataset_dict:\n",
    "    file_name = item['file_name']\n",
    "    label = item['label']\n",
    "    \n",
    "    # Find image file paths based on file name\n",
    "    image_files = find_image_files(base_dir)\n",
    "    image_path = None\n",
    "    for path in image_files:\n",
    "        if file_name in path:\n",
    "            image_path = path\n",
    "            break\n",
    "    \n",
    "    if image_path is not None:\n",
    "        # Load and transform the image\n",
    "        image = Image.open(image_path)\n",
    "        tensor_image = transform(image)\n",
    "\n",
    "        # Accumulate pixel values\n",
    "        sum_channels += torch.sum(tensor_image, dim=[1, 2])\n",
    "        sum_squared_diffs += torch.sum((tensor_image - tensor_image.mean(dim=[1, 2], keepdim=True)) ** 2, dim=[1, 2])\n",
    "        num_pixels += tensor_image.numel() // 3  # Divide by 3 for RGB channels\n",
    "\n",
    "# Calculate mean and standard deviation\n",
    "mean = sum_channels / num_pixels\n",
    "std = torch.sqrt(sum_squared_diffs / num_pixels)\n",
    "\n",
    "# Initialize lists to store mean and standard deviation values\n",
    "mean_list = []\n",
    "std_list = []\n",
    "\n",
    "# Print mean and standard deviation for each channel\n",
    "channel_names = ['R', 'G', 'B']\n",
    "for i, channel in enumerate(channel_names):\n",
    "    print(f\"Channel {channel}: Mean={mean[i]:.3f}, Std={std[i]:.3f}\")\n",
    "    # Append mean and std values to the respective lists\n",
    "    mean_list.append(mean[i].item())\n",
    "    std_list.append(std[i].item())\n",
    "\n",
    "# Print the lists\n",
    "print(\"Mean List:\", mean_list)\n",
    "print(\"Std List:\", std_list)\n"
   ]
  },
  {
   "cell_type": "code",
   "execution_count": 7,
   "id": "dfd8786a-a2fa-4ec0-98ff-ae46b58f2789",
   "metadata": {},
   "outputs": [
    {
     "name": "stdout",
     "output_type": "stream",
     "text": [
      "torch.Size([1000, 1000, 3])\n"
     ]
    },
    {
     "name": "stderr",
     "output_type": "stream",
     "text": [
      "/tmp/ipykernel_887/1360503400.py:6: DeprecationWarning: Starting with ImageIO v3 the behavior of this function will switch to that of iio.v3.imread. To keep the current behavior (and make this warning dissapear) use `import imageio.v2 as imageio` or call `imageio.v2.imread` directly.\n",
      "  image = imageio.imread(image_path)\n"
     ]
    }
   ],
   "source": [
    "import imageio\n",
    "import torch\n",
    "\n",
    "# Load the TIFF image\n",
    "image_path = '/root/autodl-nas/TXY/lung_pathology/Blank/new_0_0__2_.tif'\n",
    "image = imageio.imread(image_path)\n",
    "\n",
    "# Convert the image to a PyTorch tensor\n",
    "tensor_image = torch.from_numpy(image)\n",
    "\n",
    "# Check the shape of the tensor\n",
    "print(tensor_image.shape)\n"
   ]
  },
  {
   "cell_type": "code",
   "execution_count": 8,
   "id": "60bc8520-674a-4ba5-9729-49b1f9f42792",
   "metadata": {},
   "outputs": [
    {
     "name": "stdout",
     "output_type": "stream",
     "text": [
      "torch.Size([1000, 1000, 3])\n"
     ]
    },
    {
     "name": "stderr",
     "output_type": "stream",
     "text": [
      "/tmp/ipykernel_887/1493541591.py:6: DeprecationWarning: Starting with ImageIO v3 the behavior of this function will switch to that of iio.v3.imread. To keep the current behavior (and make this warning dissapear) use `import imageio.v2 as imageio` or call `imageio.v2.imread` directly.\n",
      "  image = imageio.imread(image_path)\n"
     ]
    }
   ],
   "source": [
    "import imageio\n",
    "import torch\n",
    "\n",
    "# Load the TIFF image\n",
    "image_path = '/root/autodl-nas/TXY/lung_pathology/CIS/1-1.tif'\n",
    "image = imageio.imread(image_path)\n",
    "\n",
    "# Convert the image to a PyTorch tensor\n",
    "tensor_image = torch.from_numpy(image)\n",
    "\n",
    "# Check the shape of the tensor\n",
    "print(tensor_image.shape)"
   ]
  },
  {
   "cell_type": "markdown",
   "id": "b70346c5",
   "metadata": {
    "tags": []
   },
   "source": [
    "# Dataset and DataLoaders"
   ]
  },
  {
   "cell_type": "code",
   "execution_count": 9,
   "id": "e6c5221a-5915-4dd4-81ad-9bee9431a3e2",
   "metadata": {},
   "outputs": [
    {
     "name": "stdout",
     "output_type": "stream",
     "text": [
      "Train dataset size: 4266\n",
      "Validation dataset size: 609\n",
      "Test dataset size: 1220\n",
      "Train batches: 143\n",
      "Validation batches: 21\n",
      "Test batches: 41\n",
      "Class names-Train set: ['IA', 'Normal', 'MIA', 'CIS', 'Blank']\n",
      "Class names-Val set: ['IA', 'Normal', 'MIA', 'CIS', 'Blank']\n",
      "Class names-Test set: ['IA', 'Normal', 'MIA', 'CIS', 'Blank']\n"
     ]
    }
   ],
   "source": [
    "import json\n",
    "import torch\n",
    "from torchvision import transforms, models\n",
    "from torch.utils.data import Dataset, DataLoader\n",
    "from PIL import Image\n",
    "\n",
    "# Define the transformations and augmentation for train and val sets\n",
    "train_transform = transforms.Compose([\n",
    "    transforms.Resize((224, 224)),  # Resize the image to a fixed size\n",
    "    transforms.RandomHorizontalFlip(),  # Randomly flip the image horizontally\n",
    "    transforms.ToTensor(),  # Convert the image to a tensor\n",
    "    transforms.Normalize(mean=mean_list, std=std_list),  # Normalize the image\n",
    "])\n",
    "\n",
    "val_transform = transforms.Compose([\n",
    "    transforms.Resize((224, 224)),  # Resize the image to a fixed size\n",
    "    transforms.ToTensor(),  # Convert the image to a tensor\n",
    "    transforms.Normalize(mean=mean_list, std=std_list),  # Normalize the image\n",
    "])\n",
    "\n",
    "\n",
    "class CustomDataset(Dataset):\n",
    "    def __init__(self, json_path, transform=None):\n",
    "        self.data = []\n",
    "        self.transform = transform\n",
    "        self.img_paths = []\n",
    "        self.labels = []\n",
    "\n",
    "        # Load the JSON file\n",
    "        with open(json_path, 'r') as f:\n",
    "            json_data = json.load(f)\n",
    "        \n",
    "        # Process each item in the JSON file\n",
    "        for item in json_data:\n",
    "            image_path = item['file_path']\n",
    "            label = item['label']\n",
    "            self.data.append((image_path, label))\n",
    "            self.img_paths.append(image_path)\n",
    "            self.labels.append(label)\n",
    "        \n",
    "        # Get the class names from the JSON file\n",
    "        self.class_names = list(set(item['label'] for item in json_data))\n",
    "    \n",
    "    def __getitem__(self, index):\n",
    "        image_path, label = self.data[index]\n",
    "        image = Image.open(image_path).convert('RGB')\n",
    "        \n",
    "        if self.transform is not None:\n",
    "            image = self.transform(image)\n",
    "        \n",
    "        return image, label\n",
    "    \n",
    "    def __len__(self):\n",
    "        return len(self.data)\n",
    "\n",
    "# Create datasets and data loaders\n",
    "image_datasets = {\"train\": CustomDataset(train_json_path, transform=train_transform), \n",
    "                  \"val\": CustomDataset(val_json_path, transform=val_transform), \n",
    "                  \"test\": CustomDataset(test_json_path, transform=val_transform)} # Use val_transform for test as an example\n",
    "\n",
    "image_dataloader = {\"train\": DataLoader(image_datasets['train'], batch_size=batch_size, shuffle=True), \n",
    "                    \"val\": DataLoader(image_datasets['val'], batch_size=batch_size), \n",
    "                    \"test\": DataLoader(image_datasets['test'], batch_size=batch_size)}\n",
    "\n",
    "\n",
    "# Get the sizes of the datasets\n",
    "dataset_sizes = {x: len(image_datasets[x]) for x in ['train', 'val', 'test']}\n",
    "\n",
    "# Get the class names\n",
    "class_names_train = image_datasets['train'].class_names\n",
    "class_names_val = image_datasets['val'].class_names\n",
    "class_names_test = image_datasets['test'].class_names\n",
    "\n",
    "# Print the sizes of the datasets and class names\n",
    "print(\"Train dataset size:\", dataset_sizes['train'])\n",
    "print(\"Validation dataset size:\", dataset_sizes['val'])\n",
    "print(\"Test dataset size:\", dataset_sizes['test'])\n",
    "print(\"Train batches:\", len(image_dataloader['train']))\n",
    "print(\"Validation batches:\", len(image_dataloader['val']))\n",
    "print(\"Test batches:\", len(image_dataloader['test']))\n",
    "print(\"Class names-Train set:\", class_names_train)\n",
    "print(\"Class names-Val set:\", class_names_train)\n",
    "print(\"Class names-Test set:\", class_names_train)\n"
   ]
  },
  {
   "cell_type": "code",
   "execution_count": 10,
   "id": "bd1487ab-36a2-44ab-ae6e-f8d35adc9b10",
   "metadata": {},
   "outputs": [],
   "source": [
    "# Set up label_map \n",
    "label_map = {\n",
    "    'Blank': 0,\n",
    "    'Normal': 1,\n",
    "    'CIS': 2,\n",
    "    'MIA': 3,\n",
    "    'IA': 4\n",
    "}\n",
    "\n",
    "label_map_inv = {v: k for k, v in label_map.items()}  # Define inverse mapping"
   ]
  },
  {
   "cell_type": "code",
   "execution_count": 11,
   "id": "2b07183e-ffd9-42fd-be46-f39bf04a213d",
   "metadata": {},
   "outputs": [
    {
     "name": "stdout",
     "output_type": "stream",
     "text": [
      "using device: cuda:0\n"
     ]
    }
   ],
   "source": [
    "device = torch.device('cuda:0' if torch.cuda.is_available() else 'cpu')\n",
    "print('using device: {}'.format(device))"
   ]
  },
  {
   "cell_type": "markdown",
   "id": "6dec4937",
   "metadata": {
    "tags": []
   },
   "source": [
    "# imshow function for tensor image"
   ]
  },
  {
   "cell_type": "code",
   "execution_count": 12,
   "id": "b0090e3b",
   "metadata": {},
   "outputs": [
    {
     "data": {
      "image/png": "[encoded data removed]",
      "text/plain": [
       "<Figure size 432x288 with 1 Axes>"
      ]
     },
     "metadata": {
      "needs_background": "light"
     },
     "output_type": "display_data"
    }
   ],
   "source": [
    "import numpy as np\n",
    "import matplotlib.pyplot as plt\n",
    "import torchvision\n",
    "\n",
    "def imshow(imgs, title=None):\n",
    "    imgs = imgs.numpy().transpose((1, 2, 0))\n",
    "    mean = np.array([0.642, 0.554, 0.468])\n",
    "    std = np.array([0.246, 0.249, 0.263])\n",
    "    imgs = std * imgs + mean\n",
    "    imgs = np.clip(imgs, 0, 1)\n",
    "    plt.imshow(imgs)\n",
    "    if title is not None:\n",
    "        plt.title(title)\n",
    "    plt.pause(0.001)\n",
    "\n",
    "# Get a batch of inputs and classes\n",
    "inputs, classes = next(iter(image_dataloader['train']))\n",
    "imgs = torchvision.utils.make_grid(inputs)\n",
    "imshow(imgs, title=class_names_train)"
   ]
  },
  {
   "cell_type": "markdown",
   "id": "5907649e",
   "metadata": {},
   "source": [
    "# Train function and its pipeline"
   ]
  },
  {
   "cell_type": "code",
   "execution_count": 13,
   "id": "979a976f-f9ec-4928-983c-d7baf649e2dd",
   "metadata": {},
   "outputs": [],
   "source": [
    "import time\n",
    "import datetime\n",
    "import copy\n",
    "import numpy as np\n",
    "import torch\n",
    "import torch.nn as nn\n",
    "import torch.optim as optim\n",
    "from torch.optim import lr_scheduler\n",
    "import torchvision.transforms as transforms\n",
    "import matplotlib.pyplot as plt\n",
    "from tqdm import tqdm\n",
    "from sklearn import metrics\n",
    "import os\n",
    "from torch.utils.tensorboard import SummaryWriter\n",
    "\n",
    "def train(model, criterion, optimizer, scheduler, num_epochs=30, early_stopping=True, model_checkpoint_path=None, model_name='ResNet18', tensorboard_dir=None, log_file_dir=None):\n",
    "    last_loss = 100\n",
    "    patience = 5\n",
    "    trigger_times = 0\n",
    "\n",
    "    total_start = time.time()\n",
    "\n",
    "    total_train_accuracy = []\n",
    "    total_train_loss = []\n",
    "    total_val_accuracy = []\n",
    "    total_val_loss = []\n",
    "    total_train_auroc = []  # List to store train set AUROC values\n",
    "    total_val_auroc = []  # List to store val set AUROC values\n",
    "    learning_rates = []  # List to store learning rates\n",
    "    total_steps = []  # List to store steps\n",
    "\n",
    "    best_model_weight = copy.deepcopy(model.state_dict())\n",
    "    best_acc = 0.0\n",
    "    best_loss = float('inf')\n",
    "\n",
    "    if tensorboard_dir is not None:\n",
    "        os.makedirs(tensorboard_dir, exist_ok=True)\n",
    "        writer = SummaryWriter(tensorboard_dir)\n",
    "\n",
    "    # Generate datetime suffix\n",
    "    timestamp = datetime.datetime.now().strftime(\"%Y%m%d_%H%M%S\")\n",
    "\n",
    "    # Generate log file path with datetime suffix\n",
    "    if log_file_dir is not None:\n",
    "        os.makedirs(log_file_dir, exist_ok=True)\n",
    "        log_file_path = os.path.join(log_file_dir, f\"log_{timestamp}.txt\")\n",
    "        log_file = open(log_file_path, 'w')\n",
    "    else:\n",
    "        log_file = None        \n",
    "\n",
    "    for epoch in range(num_epochs):\n",
    "        start = time.time()\n",
    "        print('Epoch {} / {}'.format(epoch, num_epochs-1))\n",
    "        print('-' * 20)\n",
    "\n",
    "        epoch_loss = 0.0  # Initialize epoch loss\n",
    "\n",
    "        for phase in ['train', 'val']:\n",
    "            if phase == 'train':\n",
    "                model.train()\n",
    "            else:\n",
    "                model.eval()\n",
    "\n",
    "            running_loss = 0.0\n",
    "            running_corrects = 0\n",
    "            all_predictions = []  # List to store predicted probabilities\n",
    "            all_labels = []  # List to store true labels\n",
    "\n",
    "            data_loader = tqdm(image_dataloader[phase], desc='{} Phase'.format(phase.capitalize()))\n",
    "\n",
    "            for index, (inputs, labels) in enumerate(data_loader):\n",
    "                inputs = inputs.to(device)\n",
    "                labels = torch.tensor([label_map[label] for label in labels]).to(device)  # Convert labels to numerical values\n",
    "\n",
    "                optimizer.zero_grad()\n",
    "\n",
    "                outputs = model(inputs)\n",
    "                _, preds = torch.max(outputs, 1)\n",
    "                loss = criterion(outputs, labels)\n",
    "\n",
    "                if phase == 'train':\n",
    "                    predictions = torch.softmax(outputs, dim=1)\n",
    "                    all_predictions.append(predictions.detach().cpu().numpy())\n",
    "                    all_labels.append(labels.detach().cpu().numpy())\n",
    "                    loss.backward()\n",
    "                    optimizer.step()\n",
    "\n",
    "                    current_step = index + len(image_dataloader[phase]) * epoch\n",
    "                    total_steps.append(current_step)  # Store the steps\n",
    "                    learning_rates.append(optimizer.param_groups[0]['lr'])  # Store the learning rate at each batch or step\n",
    "\n",
    "                running_loss += loss.item() * inputs.size(0)\n",
    "                running_corrects += torch.sum(preds == labels.data)\n",
    "\n",
    "                if phase == 'val':\n",
    "                    predictions = torch.softmax(outputs, dim=1)\n",
    "                    all_predictions.append(predictions.detach().cpu().numpy())\n",
    "                    all_labels.append(labels.detach().cpu().numpy())\n",
    "\n",
    "            if phase == 'train':\n",
    "                scheduler.step()  # Update the learning rate scheduler\n",
    "\n",
    "            epoch_loss = running_loss / dataset_sizes[phase]  # Assign epoch loss\n",
    "            epoch_accuracy = running_corrects.float() / dataset_sizes[phase]\n",
    "\n",
    "            if phase == 'train':\n",
    "                total_train_loss.append(epoch_loss)\n",
    "                total_train_accuracy.append(epoch_accuracy)\n",
    "                print('{} Loss: {:.5f} Accuracy: {:.5f}'.format(phase, epoch_loss, epoch_accuracy))\n",
    "                if len(all_predictions) > 0 and len(all_labels) > 0:\n",
    "                    all_predictions = np.concatenate(all_predictions)\n",
    "                    all_labels = np.concatenate(all_labels)\n",
    "                    if len(image_datasets['train'].class_names) == 2:\n",
    "                        train_auroc = metrics.roc_auc_score(all_labels, all_predictions[:, 1], average='binary')\n",
    "                    else:\n",
    "                        train_auroc = []\n",
    "                        for i in range(len(image_datasets['train'].class_names)):\n",
    "                            class_labels = (all_labels == i).astype(int)\n",
    "                            class_probs = all_predictions[:, i]\n",
    "                            if np.sum(class_labels) > 0 and np.sum(1 - class_labels) > 0:\n",
    "                                class_auroc = metrics.roc_auc_score(class_labels, class_probs)\n",
    "                                train_auroc.append(class_auroc)\n",
    "                        train_auroc = np.mean(train_auroc)\n",
    "                    total_train_auroc.append(train_auroc)\n",
    "                    print('Train AUROC: {:.5f}'.format(train_auroc))\n",
    "\n",
    "                    if tensorboard_dir is not None:\n",
    "                        writer.add_scalar('Train AUROC', train_auroc, epoch)\n",
    "\n",
    "            if phase == 'val':\n",
    "                total_val_loss.append(epoch_loss)\n",
    "                total_val_accuracy.append(epoch_accuracy)\n",
    "                print('{} Loss: {:.5f} Accuracy: {:.5f}'.format(phase, epoch_loss, epoch_accuracy))\n",
    "                if len(all_predictions) > 0 and len(all_labels) > 0:\n",
    "                    all_predictions = np.concatenate(all_predictions)\n",
    "                    all_labels = np.concatenate(all_labels)\n",
    "                    if len(image_datasets['train'].class_names) == 2:\n",
    "                        # For binary classification, use 'binary' average\n",
    "                        auroc = metrics.roc_auc_score(all_labels, all_predictions[:, 1], average='binary')\n",
    "                    else:\n",
    "                        # For multi-class classification, calculate AUROC per class using 'ovr' strategy\n",
    "                        auroc = []\n",
    "                        for i in range(len(image_datasets['train'].class_names)):\n",
    "                            class_labels = (all_labels == i).astype(int)\n",
    "                            class_probs = all_predictions[:, i]\n",
    "                            if np.sum(class_labels) > 0 and np.sum(1 - class_labels) > 0:\n",
    "                                class_auroc = metrics.roc_auc_score(class_labels, class_probs)\n",
    "                                auroc.append(class_auroc)\n",
    "                        auroc = np.mean(auroc)\n",
    "                    total_val_auroc.append(auroc)\n",
    "                    print('Val AUROC: {:.5f}'.format(auroc))\n",
    "\n",
    "                    if tensorboard_dir is not None:\n",
    "                        writer.add_scalar('Val AUROC', auroc, epoch)\n",
    "\n",
    "            if phase == 'val' and epoch_accuracy > best_acc:\n",
    "                best_acc = epoch_accuracy\n",
    "                best_loss = epoch_loss\n",
    "                best_model_weight = copy.deepcopy(model.state_dict())\n",
    "                # Save the best model state dictionary\n",
    "                if model_checkpoint_path is not None:\n",
    "                    os.makedirs(model_checkpoint_path, exist_ok=True)\n",
    "                    checkpoint_path = os.path.join(model_checkpoint_path, '{}_best_model.pt'.format(model_name))\n",
    "                    torch.save(best_model_weight, checkpoint_path)\n",
    "\n",
    "            if early_stopping and phase == 'val':\n",
    "                if last_loss < epoch_loss:\n",
    "                    trigger_times += 1\n",
    "                    if trigger_times >= patience:\n",
    "                        print('Early stopping at epoch {}'.format(epoch))\n",
    "                        total_time_elapsed = np.round(time.time() - total_start, 3)\n",
    "                        print('Completed training in {:0f}m {:03f}s'.format(total_time_elapsed // 60, total_time_elapsed % 60))\n",
    "                        print('Best Accuracy: {}, Best Loss: {}'.format(best_acc, best_loss))\n",
    "                        model.load_state_dict(best_model_weight)\n",
    "                        return model, total_train_accuracy, total_train_loss, total_train_auroc, total_val_accuracy, total_val_loss, total_val_auroc\n",
    "                else:\n",
    "                    trigger_times = 0\n",
    "                last_loss = epoch_loss\n",
    "\n",
    "        if model_checkpoint_path and epoch % 10 == 0:\n",
    "            os.makedirs(model_checkpoint_path, exist_ok=True)  # Create the folder if it doesn't exist\n",
    "            checkpoint_path = os.path.join(model_checkpoint_path, '{}_epoch_{}.pt'.format(model_name, epoch))\n",
    "            torch.save({\n",
    "                'model_state_dict': model.state_dict(),\n",
    "                'optimizer_state_dict': optimizer.state_dict(),\n",
    "                'loss': criterion,\n",
    "                'epoch': epoch\n",
    "            }, checkpoint_path)\n",
    "\n",
    "        end = np.round(time.time() - start, 3)\n",
    "        print('Epoch {}: {}s\\n'.format(epoch, end))\n",
    "\n",
    "        if tensorboard_dir is not None:\n",
    "            writer.add_scalar('Epoch Loss/Train', total_train_loss[-1], epoch)\n",
    "            writer.add_scalar('Epoch Accuracy/Train', total_train_accuracy[-1], epoch)\n",
    "            writer.add_scalar('Epoch Loss/Validation', total_val_loss[-1], epoch)\n",
    "            writer.add_scalar('Epoch Accuracy/Validation', total_val_accuracy[-1], epoch)\n",
    "            writer.add_scalar('Learning Rate', learning_rates[-1], current_step)\n",
    "\n",
    "    total_time_elapsed = np.round(time.time() - total_start, 3)\n",
    "    print('Completed training in {:0f}m {:03f}s'.format(total_time_elapsed // 60, total_time_elapsed % 60))\n",
    "    print('Best Accuracy: {}, Best Loss: {}'.format(best_acc, best_loss))\n",
    "\n",
    "    model.load_state_dict(best_model_weight)\n",
    "\n",
    "    total_train_accuracy = [acc.item() for acc in total_train_accuracy]\n",
    "    total_val_accuracy = [acc.item() for acc in total_val_accuracy]\n",
    "\n",
    "    # Save training metrics to a log file\n",
    "    if log_file is not None:\n",
    "        with log_file:\n",
    "            log_file.write('Total Train Accuracy: {}\\n'.format(total_train_accuracy))\n",
    "            log_file.write('Total Train Loss: {}\\n'.format(total_train_loss))\n",
    "            log_file.write('Total Train AUROC: {}\\n'.format(total_train_auroc))\n",
    "            log_file.write('Total Validation Accuracy: {}\\n'.format(total_val_accuracy))\n",
    "            log_file.write('Total Validation Loss: {}\\n'.format(total_val_loss))\n",
    "            log_file.write('Total Validation AUROC: {}\\n'.format(total_val_auroc))\n",
    "\n",
    "    # TensorBoard visualization\n",
    "    if tensorboard_dir is not None:\n",
    "        writer.close()\n",
    "    \n",
    "\n",
    "    # Plotting training metrics\n",
    "    plt.figure(figsize=(12, 12))\n",
    "    plt.subplot(2, 2, 1)\n",
    "    plt.plot(range(num_epochs), total_train_loss, label='Train')\n",
    "    plt.plot(range(num_epochs), total_val_loss, label='Validation')\n",
    "    plt.xlabel('Epoch')\n",
    "    plt.ylabel('Loss')\n",
    "    plt.title('Loss')\n",
    "    plt.legend()\n",
    "\n",
    "    plt.subplot(2, 2, 2)\n",
    "    plt.plot(range(num_epochs), total_train_accuracy, label='Train')\n",
    "    plt.plot(range(num_epochs), total_val_accuracy, label='Validation')\n",
    "    plt.xlabel('Epoch')\n",
    "    plt.ylabel('Accuracy')\n",
    "    plt.title('Accuracy')\n",
    "    plt.legend()\n",
    "\n",
    "    plt.subplot(2, 2, 3)\n",
    "    plt.plot(range(num_epochs), total_val_auroc, label='Validation')\n",
    "    plt.xlabel('Epoch')\n",
    "    plt.ylabel('AUROC')\n",
    "    plt.title('AUROC')\n",
    "    plt.legend()\n",
    "\n",
    "    plt.subplot(2, 2, 4)\n",
    "    plt.plot(total_steps, learning_rates)\n",
    "    plt.xlabel('Step')\n",
    "    plt.ylabel('Learning Rate')\n",
    "    plt.title('Learning Rate')\n",
    "    plt.legend()\n",
    "\n",
    "    plt.tight_layout()\n",
    "    plt.show()    \n",
    "    \n",
    "\n",
    "    return model, total_train_accuracy, total_train_loss, total_train_auroc, total_val_accuracy, total_val_loss, total_val_auroc\n"
   ]
  },
  {
   "cell_type": "markdown",
   "id": "bfad89f3",
   "metadata": {},
   "source": [
    "# Network Structure"
   ]
  },
  {
   "cell_type": "code",
   "execution_count": 14,
   "id": "68faab4a",
   "metadata": {},
   "outputs": [
    {
     "name": "stderr",
     "output_type": "stream",
     "text": [
      "/root/miniconda3/lib/python3.8/site-packages/torchvision/models/_utils.py:208: UserWarning: The parameter 'pretrained' is deprecated since 0.13 and will be removed in 0.15, please use 'weights' instead.\n",
      "  warnings.warn(\n",
      "/root/miniconda3/lib/python3.8/site-packages/torchvision/models/_utils.py:223: UserWarning: Arguments other than a weight enum or `None` for 'weights' are deprecated since 0.13 and will be removed in 0.15. The current behavior is equivalent to passing `weights=EfficientNet_B5_Weights.IMAGENET1K_V1`. You can also use `weights=EfficientNet_B5_Weights.DEFAULT` to get the most up-to-date weights.\n",
      "  warnings.warn(msg)\n",
      "/root/miniconda3/lib/python3.8/site-packages/torchvision/ops/misc.py:114: UserWarning: Don't use ConvNormActivation directly, please use Conv2dNormActivation and Conv3dNormActivation instead.\n",
      "  warnings.warn(\n"
     ]
    }
   ],
   "source": [
    "import torch\n",
    "from torchsummary import summary\n",
    "import torchvision.models as models\n",
    "\n",
    "device = torch.device('cuda' if torch.cuda.is_available() else 'cpu')\n",
    "\n",
    "#Load pretrained EfficientNet_b5 model\n",
    "model = torchvision.models.efficientnet_b5(pretrained=True)\n",
    "\n",
    "# summary(model, input_size=(3, 224, 224))\n",
    "# print(\"Original model: \\n\", model)\n",
    "\n",
    "model.features[0] = ConvNormActivation(\n",
    "    in_channels=3,\n",
    "    out_channels=48,\n",
    "    kernel_size=3,\n",
    "    stride=2,\n",
    "    norm_layer=partial(nn.BatchNorm2d, eps=0.001, momentum=0.01),\n",
    "    activation_layer=nn.SiLU)\n",
    "model.classifier = nn.Sequential(\n",
    "    nn.Dropout(p=0.5, inplace=True),\n",
    "    nn.Linear(in_features=2048, out_features=num_classes, bias=True))\n",
    "\n",
    "model = model.to(device)\n",
    "criterion = nn.CrossEntropyLoss()\n",
    "# optimizer = optim.SGD(model.classifier.parameters(), lr=learning_rate, momentum=0.9) # Only optimize the parameters of the classifier layer, ignoring the parameters of other parts of the model\n",
    "optimizer = optim.SGD(model.parameters(), lr=learning_rate, momentum=0.9) # Optimizes all the parameters of the entire model\n",
    "# scheduler = lr_scheduler.StepLR(optimizer, step_size=10, gamma=0.1)\n",
    "scheduler = torch.optim.lr_scheduler.OneCycleLR(optimizer, \n",
    "                                                max_lr=learning_rate, \n",
    "                                                epochs=num_epochs, \n",
    "                                                steps_per_epoch=1, \n",
    "                                                pct_start=0.3, \n",
    "                                                anneal_strategy='cos', \n",
    "                                                cycle_momentum=True, \n",
    "                                                base_momentum=0.85, \n",
    "                                                max_momentum=0.95)\n",
    "\n",
    "# scheduler = optimization.get_linear_schedule_with_warmup(optimizer, \n",
    "#                                                          num_warmup_steps=3, \n",
    "#                                                          num_training_steps=num_epochs)\n",
    "\n",
    "# summary(model, input_size=(3, 224, 224))\n",
    "# print(\"Revised model: \\n\", model)\n"
   ]
  },
  {
   "cell_type": "markdown",
   "id": "c9eaffa5",
   "metadata": {},
   "source": [
    "# Train"
   ]
  },
  {
   "cell_type": "code",
   "execution_count": 15,
   "id": "b6c62a1c-9846-487d-bc35-94fd3b1830d6",
   "metadata": {},
   "outputs": [
    {
     "name": "stdout",
     "output_type": "stream",
     "text": [
      "Epoch 0 / 99\n",
      "--------------------\n"
     ]
    },
    {
     "name": "stderr",
     "output_type": "stream",
     "text": [
      "Train Phase: 100%|██████████| 143/143 [01:28<00:00,  1.62it/s]\n"
     ]
    },
    {
     "name": "stdout",
     "output_type": "stream",
     "text": [
      "train Loss: 1.58726 Accuracy: 0.27098\n",
      "Train AUROC: 0.55924\n"
     ]
    },
    {
     "name": "stderr",
     "output_type": "stream",
     "text": [
      "Val Phase: 100%|██████████| 21/21 [00:37<00:00,  1.77s/it]\n"
     ]
    },
    {
     "name": "stdout",
     "output_type": "stream",
     "text": [
      "val Loss: 1.59003 Accuracy: 0.29064\n",
      "Val AUROC: 0.58362\n",
      "Epoch 0: 126.763s\n",
      "\n",
      "Epoch 1 / 99\n",
      "--------------------\n"
     ]
    },
    {
     "name": "stderr",
     "output_type": "stream",
     "text": [
      "Train Phase: 100%|██████████| 143/143 [01:16<00:00,  1.87it/s]\n"
     ]
    },
    {
     "name": "stdout",
     "output_type": "stream",
     "text": [
      "train Loss: 1.49277 Accuracy: 0.40788\n",
      "Train AUROC: 0.67134\n"
     ]
    },
    {
     "name": "stderr",
     "output_type": "stream",
     "text": [
      "Val Phase: 100%|██████████| 21/21 [00:08<00:00,  2.61it/s]\n"
     ]
    },
    {
     "name": "stdout",
     "output_type": "stream",
     "text": [
      "val Loss: 1.48235 Accuracy: 0.45156\n",
      "Val AUROC: 0.70904\n",
      "Epoch 1: 84.969s\n",
      "\n",
      "Epoch 2 / 99\n",
      "--------------------\n"
     ]
    },
    {
     "name": "stderr",
     "output_type": "stream",
     "text": [
      "Train Phase: 100%|██████████| 143/143 [01:15<00:00,  1.89it/s]\n"
     ]
    },
    {
     "name": "stdout",
     "output_type": "stream",
     "text": [
      "train Loss: 1.40310 Accuracy: 0.47562\n",
      "Train AUROC: 0.72906\n"
     ]
    },
    {
     "name": "stderr",
     "output_type": "stream",
     "text": [
      "Val Phase: 100%|██████████| 21/21 [00:07<00:00,  2.64it/s]\n"
     ]
    },
    {
     "name": "stdout",
     "output_type": "stream",
     "text": [
      "val Loss: 1.37230 Accuracy: 0.53038\n",
      "Val AUROC: 0.77237\n",
      "Epoch 2: 84.341s\n",
      "\n",
      "Epoch 3 / 99\n",
      "--------------------\n"
     ]
    },
    {
     "name": "stderr",
     "output_type": "stream",
     "text": [
      "Train Phase: 100%|██████████| 143/143 [01:15<00:00,  1.89it/s]\n"
     ]
    },
    {
     "name": "stdout",
     "output_type": "stream",
     "text": [
      "train Loss: 1.30443 Accuracy: 0.51102\n",
      "Train AUROC: 0.77494\n"
     ]
    },
    {
     "name": "stderr",
     "output_type": "stream",
     "text": [
      "Val Phase: 100%|██████████| 21/21 [00:07<00:00,  2.68it/s]\n"
     ]
    },
    {
     "name": "stdout",
     "output_type": "stream",
     "text": [
      "val Loss: 1.27208 Accuracy: 0.54516\n",
      "Val AUROC: 0.80786\n",
      "Epoch 3: 83.802s\n",
      "\n",
      "Epoch 4 / 99\n",
      "--------------------\n"
     ]
    },
    {
     "name": "stderr",
     "output_type": "stream",
     "text": [
      "Train Phase: 100%|██████████| 143/143 [01:15<00:00,  1.90it/s]\n"
     ]
    },
    {
     "name": "stdout",
     "output_type": "stream",
     "text": [
      "train Loss: 1.21571 Accuracy: 0.54618\n",
      "Train AUROC: 0.80277\n"
     ]
    },
    {
     "name": "stderr",
     "output_type": "stream",
     "text": [
      "Val Phase: 100%|██████████| 21/21 [00:07<00:00,  2.74it/s]\n"
     ]
    },
    {
     "name": "stdout",
     "output_type": "stream",
     "text": [
      "val Loss: 1.18071 Accuracy: 0.56979\n",
      "Val AUROC: 0.83499\n",
      "Epoch 4: 83.485s\n",
      "\n",
      "Epoch 5 / 99\n",
      "--------------------\n"
     ]
    },
    {
     "name": "stderr",
     "output_type": "stream",
     "text": [
      "Train Phase: 100%|██████████| 143/143 [01:15<00:00,  1.89it/s]\n"
     ]
    },
    {
     "name": "stdout",
     "output_type": "stream",
     "text": [
      "train Loss: 1.13121 Accuracy: 0.57126\n",
      "Train AUROC: 0.82973\n"
     ]
    },
    {
     "name": "stderr",
     "output_type": "stream",
     "text": [
      "Val Phase: 100%|██████████| 21/21 [00:07<00:00,  2.63it/s]\n"
     ]
    },
    {
     "name": "stdout",
     "output_type": "stream",
     "text": [
      "val Loss: 1.09225 Accuracy: 0.60427\n",
      "Val AUROC: 0.86431\n",
      "Epoch 5: 84.279s\n",
      "\n",
      "Epoch 6 / 99\n",
      "--------------------\n"
     ]
    },
    {
     "name": "stderr",
     "output_type": "stream",
     "text": [
      "Train Phase: 100%|██████████| 143/143 [01:15<00:00,  1.89it/s]\n"
     ]
    },
    {
     "name": "stdout",
     "output_type": "stream",
     "text": [
      "train Loss: 1.06095 Accuracy: 0.59376\n",
      "Train AUROC: 0.84549\n"
     ]
    },
    {
     "name": "stderr",
     "output_type": "stream",
     "text": [
      "Val Phase: 100%|██████████| 21/21 [00:07<00:00,  2.74it/s]\n"
     ]
    },
    {
     "name": "stdout",
     "output_type": "stream",
     "text": [
      "val Loss: 1.02172 Accuracy: 0.62397\n",
      "Val AUROC: 0.87703\n",
      "Epoch 6: 83.598s\n",
      "\n",
      "Epoch 7 / 99\n",
      "--------------------\n"
     ]
    },
    {
     "name": "stderr",
     "output_type": "stream",
     "text": [
      "Train Phase: 100%|██████████| 143/143 [01:15<00:00,  1.88it/s]\n"
     ]
    },
    {
     "name": "stdout",
     "output_type": "stream",
     "text": [
      "train Loss: 0.99341 Accuracy: 0.61322\n",
      "Train AUROC: 0.86201\n"
     ]
    },
    {
     "name": "stderr",
     "output_type": "stream",
     "text": [
      "Val Phase: 100%|██████████| 21/21 [00:07<00:00,  2.78it/s]\n"
     ]
    },
    {
     "name": "stdout",
     "output_type": "stream",
     "text": [
      "val Loss: 0.95380 Accuracy: 0.62890\n",
      "Val AUROC: 0.88731\n",
      "Epoch 7: 83.947s\n",
      "\n",
      "Epoch 8 / 99\n",
      "--------------------\n"
     ]
    },
    {
     "name": "stderr",
     "output_type": "stream",
     "text": [
      "Train Phase: 100%|██████████| 143/143 [01:16<00:00,  1.87it/s]\n"
     ]
    },
    {
     "name": "stdout",
     "output_type": "stream",
     "text": [
      "train Loss: 0.93406 Accuracy: 0.63174\n",
      "Train AUROC: 0.87540\n"
     ]
    },
    {
     "name": "stderr",
     "output_type": "stream",
     "text": [
      "Val Phase: 100%|██████████| 21/21 [00:08<00:00,  2.56it/s]\n"
     ]
    },
    {
     "name": "stdout",
     "output_type": "stream",
     "text": [
      "val Loss: 0.86909 Accuracy: 0.66174\n",
      "Val AUROC: 0.90429\n",
      "Epoch 8: 84.998s\n",
      "\n",
      "Epoch 9 / 99\n",
      "--------------------\n"
     ]
    },
    {
     "name": "stderr",
     "output_type": "stream",
     "text": [
      "Train Phase: 100%|██████████| 143/143 [01:16<00:00,  1.88it/s]\n"
     ]
    },
    {
     "name": "stdout",
     "output_type": "stream",
     "text": [
      "train Loss: 0.86670 Accuracy: 0.65682\n",
      "Train AUROC: 0.88862\n"
     ]
    },
    {
     "name": "stderr",
     "output_type": "stream",
     "text": [
      "Val Phase: 100%|██████████| 21/21 [00:07<00:00,  2.78it/s]\n"
     ]
    },
    {
     "name": "stdout",
     "output_type": "stream",
     "text": [
      "val Loss: 0.80447 Accuracy: 0.68145\n",
      "Val AUROC: 0.91316\n",
      "Epoch 9: 83.97s\n",
      "\n",
      "Epoch 10 / 99\n",
      "--------------------\n"
     ]
    },
    {
     "name": "stderr",
     "output_type": "stream",
     "text": [
      "Train Phase: 100%|██████████| 143/143 [01:16<00:00,  1.87it/s]\n"
     ]
    },
    {
     "name": "stdout",
     "output_type": "stream",
     "text": [
      "train Loss: 0.81451 Accuracy: 0.67065\n",
      "Train AUROC: 0.89567\n"
     ]
    },
    {
     "name": "stderr",
     "output_type": "stream",
     "text": [
      "Val Phase: 100%|██████████| 21/21 [00:08<00:00,  2.62it/s]\n"
     ]
    },
    {
     "name": "stdout",
     "output_type": "stream",
     "text": [
      "val Loss: 0.73812 Accuracy: 0.71757\n",
      "Val AUROC: 0.92450\n",
      "Epoch 10: 85.625s\n",
      "\n",
      "Epoch 11 / 99\n",
      "--------------------\n"
     ]
    },
    {
     "name": "stderr",
     "output_type": "stream",
     "text": [
      "Train Phase: 100%|██████████| 143/143 [01:16<00:00,  1.88it/s]\n"
     ]
    },
    {
     "name": "stdout",
     "output_type": "stream",
     "text": [
      "train Loss: 0.76593 Accuracy: 0.68519\n",
      "Train AUROC: 0.90645\n"
     ]
    },
    {
     "name": "stderr",
     "output_type": "stream",
     "text": [
      "Val Phase: 100%|██████████| 21/21 [00:07<00:00,  2.75it/s]\n"
     ]
    },
    {
     "name": "stdout",
     "output_type": "stream",
     "text": [
      "val Loss: 0.69332 Accuracy: 0.72085\n",
      "Val AUROC: 0.92742\n",
      "Epoch 11: 84.095s\n",
      "\n",
      "Epoch 12 / 99\n",
      "--------------------\n"
     ]
    },
    {
     "name": "stderr",
     "output_type": "stream",
     "text": [
      "Train Phase: 100%|██████████| 143/143 [01:23<00:00,  1.72it/s]\n"
     ]
    },
    {
     "name": "stdout",
     "output_type": "stream",
     "text": [
      "train Loss: 0.72499 Accuracy: 0.69972\n",
      "Train AUROC: 0.91314\n"
     ]
    },
    {
     "name": "stderr",
     "output_type": "stream",
     "text": [
      "Val Phase: 100%|██████████| 21/21 [00:08<00:00,  2.56it/s]\n"
     ]
    },
    {
     "name": "stdout",
     "output_type": "stream",
     "text": [
      "val Loss: 0.63960 Accuracy: 0.74220\n",
      "Val AUROC: 0.93425\n",
      "Epoch 12: 91.846s\n",
      "\n",
      "Epoch 13 / 99\n",
      "--------------------\n"
     ]
    },
    {
     "name": "stderr",
     "output_type": "stream",
     "text": [
      "Train Phase: 100%|██████████| 143/143 [01:26<00:00,  1.66it/s]\n"
     ]
    },
    {
     "name": "stdout",
     "output_type": "stream",
     "text": [
      "train Loss: 0.68848 Accuracy: 0.71566\n",
      "Train AUROC: 0.91772\n"
     ]
    },
    {
     "name": "stderr",
     "output_type": "stream",
     "text": [
      "Val Phase: 100%|██████████| 21/21 [00:09<00:00,  2.19it/s]\n"
     ]
    },
    {
     "name": "stdout",
     "output_type": "stream",
     "text": [
      "val Loss: 0.61340 Accuracy: 0.76026\n",
      "Val AUROC: 0.93665\n",
      "Epoch 13: 96.404s\n",
      "\n",
      "Epoch 14 / 99\n",
      "--------------------\n"
     ]
    },
    {
     "name": "stderr",
     "output_type": "stream",
     "text": [
      "Train Phase: 100%|██████████| 143/143 [01:25<00:00,  1.68it/s]\n"
     ]
    },
    {
     "name": "stdout",
     "output_type": "stream",
     "text": [
      "train Loss: 0.64423 Accuracy: 0.72808\n",
      "Train AUROC: 0.92451\n"
     ]
    },
    {
     "name": "stderr",
     "output_type": "stream",
     "text": [
      "Val Phase: 100%|██████████| 21/21 [00:09<00:00,  2.22it/s]\n"
     ]
    },
    {
     "name": "stdout",
     "output_type": "stream",
     "text": [
      "val Loss: 0.57495 Accuracy: 0.76190\n",
      "Val AUROC: 0.94346\n",
      "Epoch 14: 94.954s\n",
      "\n",
      "Epoch 15 / 99\n",
      "--------------------\n"
     ]
    },
    {
     "name": "stderr",
     "output_type": "stream",
     "text": [
      "Train Phase: 100%|██████████| 143/143 [01:24<00:00,  1.69it/s]\n"
     ]
    },
    {
     "name": "stdout",
     "output_type": "stream",
     "text": [
      "train Loss: 0.62958 Accuracy: 0.73113\n",
      "Train AUROC: 0.92606\n"
     ]
    },
    {
     "name": "stderr",
     "output_type": "stream",
     "text": [
      "Val Phase: 100%|██████████| 21/21 [00:08<00:00,  2.40it/s]\n"
     ]
    },
    {
     "name": "stdout",
     "output_type": "stream",
     "text": [
      "val Loss: 0.55890 Accuracy: 0.78161\n",
      "Val AUROC: 0.94619\n",
      "Epoch 15: 93.952s\n",
      "\n",
      "Epoch 16 / 99\n",
      "--------------------\n"
     ]
    },
    {
     "name": "stderr",
     "output_type": "stream",
     "text": [
      "Train Phase: 100%|██████████| 143/143 [01:27<00:00,  1.64it/s]\n"
     ]
    },
    {
     "name": "stdout",
     "output_type": "stream",
     "text": [
      "train Loss: 0.61104 Accuracy: 0.74824\n",
      "Train AUROC: 0.92971\n"
     ]
    },
    {
     "name": "stderr",
     "output_type": "stream",
     "text": [
      "Val Phase: 100%|██████████| 21/21 [00:09<00:00,  2.13it/s]\n"
     ]
    },
    {
     "name": "stdout",
     "output_type": "stream",
     "text": [
      "val Loss: 0.55933 Accuracy: 0.77668\n",
      "Val AUROC: 0.94504\n",
      "Epoch 16: 97.11s\n",
      "\n",
      "Epoch 17 / 99\n",
      "--------------------\n"
     ]
    },
    {
     "name": "stderr",
     "output_type": "stream",
     "text": [
      "Train Phase: 100%|██████████| 143/143 [01:24<00:00,  1.70it/s]\n"
     ]
    },
    {
     "name": "stdout",
     "output_type": "stream",
     "text": [
      "train Loss: 0.58344 Accuracy: 0.75363\n",
      "Train AUROC: 0.93423\n"
     ]
    },
    {
     "name": "stderr",
     "output_type": "stream",
     "text": [
      "Val Phase: 100%|██████████| 21/21 [00:08<00:00,  2.60it/s]\n"
     ]
    },
    {
     "name": "stdout",
     "output_type": "stream",
     "text": [
      "val Loss: 0.50713 Accuracy: 0.77504\n",
      "Val AUROC: 0.95153\n",
      "Epoch 17: 92.408s\n",
      "\n",
      "Epoch 18 / 99\n",
      "--------------------\n"
     ]
    },
    {
     "name": "stderr",
     "output_type": "stream",
     "text": [
      "Train Phase: 100%|██████████| 143/143 [01:18<00:00,  1.83it/s]\n"
     ]
    },
    {
     "name": "stdout",
     "output_type": "stream",
     "text": [
      "train Loss: 0.57745 Accuracy: 0.75504\n",
      "Train AUROC: 0.93550\n"
     ]
    },
    {
     "name": "stderr",
     "output_type": "stream",
     "text": [
      "Val Phase: 100%|██████████| 21/21 [00:09<00:00,  2.14it/s]\n"
     ]
    },
    {
     "name": "stdout",
     "output_type": "stream",
     "text": [
      "val Loss: 0.49596 Accuracy: 0.79146\n",
      "Val AUROC: 0.95507\n",
      "Epoch 18: 88.724s\n",
      "\n",
      "Epoch 19 / 99\n",
      "--------------------\n"
     ]
    },
    {
     "name": "stderr",
     "output_type": "stream",
     "text": [
      "Train Phase: 100%|██████████| 143/143 [01:22<00:00,  1.72it/s]\n"
     ]
    },
    {
     "name": "stdout",
     "output_type": "stream",
     "text": [
      "train Loss: 0.55457 Accuracy: 0.76676\n",
      "Train AUROC: 0.94121\n"
     ]
    },
    {
     "name": "stderr",
     "output_type": "stream",
     "text": [
      "Val Phase: 100%|██████████| 21/21 [00:07<00:00,  2.68it/s]\n"
     ]
    },
    {
     "name": "stdout",
     "output_type": "stream",
     "text": [
      "val Loss: 0.48190 Accuracy: 0.79803\n",
      "Val AUROC: 0.95565\n",
      "Epoch 19: 91.225s\n",
      "\n",
      "Epoch 20 / 99\n",
      "--------------------\n"
     ]
    },
    {
     "name": "stderr",
     "output_type": "stream",
     "text": [
      "Train Phase: 100%|██████████| 143/143 [01:17<00:00,  1.83it/s]\n"
     ]
    },
    {
     "name": "stdout",
     "output_type": "stream",
     "text": [
      "train Loss: 0.52489 Accuracy: 0.77520\n",
      "Train AUROC: 0.94462\n"
     ]
    },
    {
     "name": "stderr",
     "output_type": "stream",
     "text": [
      "Val Phase: 100%|██████████| 21/21 [00:09<00:00,  2.33it/s]\n"
     ]
    },
    {
     "name": "stdout",
     "output_type": "stream",
     "text": [
      "val Loss: 0.46779 Accuracy: 0.77833\n",
      "Val AUROC: 0.95531\n",
      "Epoch 20: 88.153s\n",
      "\n",
      "Epoch 21 / 99\n",
      "--------------------\n"
     ]
    },
    {
     "name": "stderr",
     "output_type": "stream",
     "text": [
      "Train Phase: 100%|██████████| 143/143 [01:16<00:00,  1.86it/s]\n"
     ]
    },
    {
     "name": "stdout",
     "output_type": "stream",
     "text": [
      "train Loss: 0.51878 Accuracy: 0.78880\n",
      "Train AUROC: 0.94717\n"
     ]
    },
    {
     "name": "stderr",
     "output_type": "stream",
     "text": [
      "Val Phase: 100%|██████████| 21/21 [00:07<00:00,  2.73it/s]\n"
     ]
    },
    {
     "name": "stdout",
     "output_type": "stream",
     "text": [
      "val Loss: 0.46542 Accuracy: 0.80131\n",
      "Val AUROC: 0.95801\n",
      "Epoch 21: 84.992s\n",
      "\n",
      "Epoch 22 / 99\n",
      "--------------------\n"
     ]
    },
    {
     "name": "stderr",
     "output_type": "stream",
     "text": [
      "Train Phase: 100%|██████████| 143/143 [01:16<00:00,  1.86it/s]\n"
     ]
    },
    {
     "name": "stdout",
     "output_type": "stream",
     "text": [
      "train Loss: 0.51595 Accuracy: 0.78575\n",
      "Train AUROC: 0.94643\n"
     ]
    },
    {
     "name": "stderr",
     "output_type": "stream",
     "text": [
      "Val Phase: 100%|██████████| 21/21 [00:08<00:00,  2.48it/s]\n"
     ]
    },
    {
     "name": "stdout",
     "output_type": "stream",
     "text": [
      "val Loss: 0.46998 Accuracy: 0.80131\n",
      "Val AUROC: 0.95891\n",
      "Epoch 22: 85.197s\n",
      "\n",
      "Epoch 23 / 99\n",
      "--------------------\n"
     ]
    },
    {
     "name": "stderr",
     "output_type": "stream",
     "text": [
      "Train Phase: 100%|██████████| 143/143 [01:16<00:00,  1.87it/s]\n"
     ]
    },
    {
     "name": "stdout",
     "output_type": "stream",
     "text": [
      "train Loss: 0.49438 Accuracy: 0.79231\n",
      "Train AUROC: 0.95176\n"
     ]
    },
    {
     "name": "stderr",
     "output_type": "stream",
     "text": [
      "Val Phase: 100%|██████████| 21/21 [00:07<00:00,  2.65it/s]\n"
     ]
    },
    {
     "name": "stdout",
     "output_type": "stream",
     "text": [
      "val Loss: 0.43732 Accuracy: 0.82102\n",
      "Val AUROC: 0.95978\n",
      "Epoch 23: 84.849s\n",
      "\n",
      "Epoch 24 / 99\n",
      "--------------------\n"
     ]
    },
    {
     "name": "stderr",
     "output_type": "stream",
     "text": [
      "Train Phase: 100%|██████████| 143/143 [01:22<00:00,  1.73it/s]\n"
     ]
    },
    {
     "name": "stdout",
     "output_type": "stream",
     "text": [
      "train Loss: 0.47565 Accuracy: 0.80075\n",
      "Train AUROC: 0.95446\n"
     ]
    },
    {
     "name": "stderr",
     "output_type": "stream",
     "text": [
      "Val Phase: 100%|██████████| 21/21 [00:09<00:00,  2.28it/s]\n"
     ]
    },
    {
     "name": "stdout",
     "output_type": "stream",
     "text": [
      "val Loss: 0.43246 Accuracy: 0.80952\n",
      "Val AUROC: 0.96053\n",
      "Epoch 24: 91.977s\n",
      "\n",
      "Epoch 25 / 99\n",
      "--------------------\n"
     ]
    },
    {
     "name": "stderr",
     "output_type": "stream",
     "text": [
      "Train Phase: 100%|██████████| 143/143 [01:16<00:00,  1.88it/s]\n"
     ]
    },
    {
     "name": "stdout",
     "output_type": "stream",
     "text": [
      "train Loss: 0.47494 Accuracy: 0.79466\n",
      "Train AUROC: 0.95485\n"
     ]
    },
    {
     "name": "stderr",
     "output_type": "stream",
     "text": [
      "Val Phase: 100%|██████████| 21/21 [00:07<00:00,  2.81it/s]\n"
     ]
    },
    {
     "name": "stdout",
     "output_type": "stream",
     "text": [
      "val Loss: 0.44741 Accuracy: 0.80788\n",
      "Val AUROC: 0.95861\n",
      "Epoch 25: 83.722s\n",
      "\n",
      "Epoch 26 / 99\n",
      "--------------------\n"
     ]
    },
    {
     "name": "stderr",
     "output_type": "stream",
     "text": [
      "Train Phase: 100%|██████████| 143/143 [01:21<00:00,  1.76it/s]\n"
     ]
    },
    {
     "name": "stdout",
     "output_type": "stream",
     "text": [
      "train Loss: 0.45430 Accuracy: 0.80825\n",
      "Train AUROC: 0.95859\n"
     ]
    },
    {
     "name": "stderr",
     "output_type": "stream",
     "text": [
      "Val Phase: 100%|██████████| 21/21 [00:08<00:00,  2.47it/s]\n"
     ]
    },
    {
     "name": "stdout",
     "output_type": "stream",
     "text": [
      "val Loss: 0.42169 Accuracy: 0.80952\n",
      "Val AUROC: 0.96217\n",
      "Epoch 26: 89.567s\n",
      "\n",
      "Epoch 27 / 99\n",
      "--------------------\n"
     ]
    },
    {
     "name": "stderr",
     "output_type": "stream",
     "text": [
      "Train Phase: 100%|██████████| 143/143 [01:22<00:00,  1.73it/s]\n"
     ]
    },
    {
     "name": "stdout",
     "output_type": "stream",
     "text": [
      "train Loss: 0.45187 Accuracy: 0.81950\n",
      "Train AUROC: 0.95923\n"
     ]
    },
    {
     "name": "stderr",
     "output_type": "stream",
     "text": [
      "Val Phase: 100%|██████████| 21/21 [00:09<00:00,  2.29it/s]\n"
     ]
    },
    {
     "name": "stdout",
     "output_type": "stream",
     "text": [
      "val Loss: 0.44334 Accuracy: 0.80460\n",
      "Val AUROC: 0.95910\n",
      "Epoch 27: 91.65s\n",
      "\n",
      "Epoch 28 / 99\n",
      "--------------------\n"
     ]
    },
    {
     "name": "stderr",
     "output_type": "stream",
     "text": [
      "Train Phase: 100%|██████████| 143/143 [01:23<00:00,  1.71it/s]\n"
     ]
    },
    {
     "name": "stdout",
     "output_type": "stream",
     "text": [
      "train Loss: 0.42834 Accuracy: 0.82654\n",
      "Train AUROC: 0.96393\n"
     ]
    },
    {
     "name": "stderr",
     "output_type": "stream",
     "text": [
      "Val Phase: 100%|██████████| 21/21 [00:08<00:00,  2.55it/s]\n"
     ]
    },
    {
     "name": "stdout",
     "output_type": "stream",
     "text": [
      "val Loss: 0.41557 Accuracy: 0.80788\n",
      "Val AUROC: 0.96386\n",
      "Epoch 28: 91.982s\n",
      "\n",
      "Epoch 29 / 99\n",
      "--------------------\n"
     ]
    },
    {
     "name": "stderr",
     "output_type": "stream",
     "text": [
      "Train Phase: 100%|██████████| 143/143 [01:26<00:00,  1.66it/s]\n"
     ]
    },
    {
     "name": "stdout",
     "output_type": "stream",
     "text": [
      "train Loss: 0.41742 Accuracy: 0.82630\n",
      "Train AUROC: 0.96389\n"
     ]
    },
    {
     "name": "stderr",
     "output_type": "stream",
     "text": [
      "Val Phase: 100%|██████████| 21/21 [00:08<00:00,  2.46it/s]\n"
     ]
    },
    {
     "name": "stdout",
     "output_type": "stream",
     "text": [
      "val Loss: 0.42327 Accuracy: 0.82923\n",
      "Val AUROC: 0.96255\n",
      "Epoch 29: 95.161s\n",
      "\n",
      "Epoch 30 / 99\n",
      "--------------------\n"
     ]
    },
    {
     "name": "stderr",
     "output_type": "stream",
     "text": [
      "Train Phase: 100%|██████████| 143/143 [01:21<00:00,  1.76it/s]\n"
     ]
    },
    {
     "name": "stdout",
     "output_type": "stream",
     "text": [
      "train Loss: 0.41672 Accuracy: 0.83075\n",
      "Train AUROC: 0.96383\n"
     ]
    },
    {
     "name": "stderr",
     "output_type": "stream",
     "text": [
      "Val Phase: 100%|██████████| 21/21 [00:08<00:00,  2.57it/s]\n"
     ]
    },
    {
     "name": "stdout",
     "output_type": "stream",
     "text": [
      "val Loss: 0.42440 Accuracy: 0.80952\n",
      "Val AUROC: 0.96300\n",
      "Epoch 30: 90.006s\n",
      "\n",
      "Epoch 31 / 99\n",
      "--------------------\n"
     ]
    },
    {
     "name": "stderr",
     "output_type": "stream",
     "text": [
      "Train Phase: 100%|██████████| 143/143 [01:23<00:00,  1.70it/s]\n"
     ]
    },
    {
     "name": "stdout",
     "output_type": "stream",
     "text": [
      "train Loss: 0.38626 Accuracy: 0.84130\n",
      "Train AUROC: 0.96971\n"
     ]
    },
    {
     "name": "stderr",
     "output_type": "stream",
     "text": [
      "Val Phase: 100%|██████████| 21/21 [00:07<00:00,  2.83it/s]\n"
     ]
    },
    {
     "name": "stdout",
     "output_type": "stream",
     "text": [
      "val Loss: 0.43369 Accuracy: 0.81938\n",
      "Val AUROC: 0.96132\n",
      "Epoch 31: 91.329s\n",
      "\n",
      "Epoch 32 / 99\n",
      "--------------------\n"
     ]
    },
    {
     "name": "stderr",
     "output_type": "stream",
     "text": [
      "Train Phase: 100%|██████████| 143/143 [01:22<00:00,  1.73it/s]\n"
     ]
    },
    {
     "name": "stdout",
     "output_type": "stream",
     "text": [
      "train Loss: 0.37072 Accuracy: 0.84927\n",
      "Train AUROC: 0.97169\n"
     ]
    },
    {
     "name": "stderr",
     "output_type": "stream",
     "text": [
      "Val Phase: 100%|██████████| 21/21 [00:08<00:00,  2.46it/s]\n"
     ]
    },
    {
     "name": "stdout",
     "output_type": "stream",
     "text": [
      "val Loss: 0.40329 Accuracy: 0.81938\n",
      "Val AUROC: 0.96482\n",
      "Epoch 32: 91.432s\n",
      "\n",
      "Epoch 33 / 99\n",
      "--------------------\n"
     ]
    },
    {
     "name": "stderr",
     "output_type": "stream",
     "text": [
      "Train Phase: 100%|██████████| 143/143 [01:17<00:00,  1.84it/s]\n"
     ]
    },
    {
     "name": "stdout",
     "output_type": "stream",
     "text": [
      "train Loss: 0.35929 Accuracy: 0.85560\n",
      "Train AUROC: 0.97356\n"
     ]
    },
    {
     "name": "stderr",
     "output_type": "stream",
     "text": [
      "Val Phase: 100%|██████████| 21/21 [00:07<00:00,  2.74it/s]\n"
     ]
    },
    {
     "name": "stdout",
     "output_type": "stream",
     "text": [
      "val Loss: 0.41362 Accuracy: 0.81773\n",
      "Val AUROC: 0.96420\n",
      "Epoch 33: 85.402s\n",
      "\n",
      "Epoch 34 / 99\n",
      "--------------------\n"
     ]
    },
    {
     "name": "stderr",
     "output_type": "stream",
     "text": [
      "Train Phase: 100%|██████████| 143/143 [01:21<00:00,  1.76it/s]\n"
     ]
    },
    {
     "name": "stdout",
     "output_type": "stream",
     "text": [
      "train Loss: 0.34929 Accuracy: 0.85842\n",
      "Train AUROC: 0.97508\n"
     ]
    },
    {
     "name": "stderr",
     "output_type": "stream",
     "text": [
      "Val Phase: 100%|██████████| 21/21 [00:08<00:00,  2.53it/s]\n"
     ]
    },
    {
     "name": "stdout",
     "output_type": "stream",
     "text": [
      "val Loss: 0.39580 Accuracy: 0.83580\n",
      "Val AUROC: 0.96645\n",
      "Epoch 34: 89.888s\n",
      "\n",
      "Epoch 35 / 99\n",
      "--------------------\n"
     ]
    },
    {
     "name": "stderr",
     "output_type": "stream",
     "text": [
      "Train Phase: 100%|██████████| 143/143 [01:20<00:00,  1.77it/s]\n"
     ]
    },
    {
     "name": "stdout",
     "output_type": "stream",
     "text": [
      "train Loss: 0.34187 Accuracy: 0.86404\n",
      "Train AUROC: 0.97629\n"
     ]
    },
    {
     "name": "stderr",
     "output_type": "stream",
     "text": [
      "Val Phase: 100%|██████████| 21/21 [00:09<00:00,  2.30it/s]\n"
     ]
    },
    {
     "name": "stdout",
     "output_type": "stream",
     "text": [
      "val Loss: 0.38654 Accuracy: 0.82430\n",
      "Val AUROC: 0.96711\n",
      "Epoch 35: 89.801s\n",
      "\n",
      "Epoch 36 / 99\n",
      "--------------------\n"
     ]
    },
    {
     "name": "stderr",
     "output_type": "stream",
     "text": [
      "Train Phase: 100%|██████████| 143/143 [01:22<00:00,  1.74it/s]\n"
     ]
    },
    {
     "name": "stdout",
     "output_type": "stream",
     "text": [
      "train Loss: 0.32876 Accuracy: 0.86896\n",
      "Train AUROC: 0.97836\n"
     ]
    },
    {
     "name": "stderr",
     "output_type": "stream",
     "text": [
      "Val Phase: 100%|██████████| 21/21 [00:10<00:00,  2.06it/s]\n"
     ]
    },
    {
     "name": "stdout",
     "output_type": "stream",
     "text": [
      "val Loss: 0.41594 Accuracy: 0.81609\n",
      "Val AUROC: 0.96298\n",
      "Epoch 36: 92.255s\n",
      "\n",
      "Epoch 37 / 99\n",
      "--------------------\n"
     ]
    },
    {
     "name": "stderr",
     "output_type": "stream",
     "text": [
      "Train Phase: 100%|██████████| 143/143 [01:22<00:00,  1.74it/s]\n"
     ]
    },
    {
     "name": "stdout",
     "output_type": "stream",
     "text": [
      "train Loss: 0.31359 Accuracy: 0.87553\n",
      "Train AUROC: 0.98053\n"
     ]
    },
    {
     "name": "stderr",
     "output_type": "stream",
     "text": [
      "Val Phase: 100%|██████████| 21/21 [00:08<00:00,  2.60it/s]\n"
     ]
    },
    {
     "name": "stdout",
     "output_type": "stream",
     "text": [
      "val Loss: 0.39249 Accuracy: 0.81773\n",
      "Val AUROC: 0.96547\n",
      "Epoch 37: 90.416s\n",
      "\n",
      "Epoch 38 / 99\n",
      "--------------------\n"
     ]
    },
    {
     "name": "stderr",
     "output_type": "stream",
     "text": [
      "Train Phase: 100%|██████████| 143/143 [01:25<00:00,  1.67it/s]\n"
     ]
    },
    {
     "name": "stdout",
     "output_type": "stream",
     "text": [
      "train Loss: 0.28904 Accuracy: 0.88561\n",
      "Train AUROC: 0.98277\n"
     ]
    },
    {
     "name": "stderr",
     "output_type": "stream",
     "text": [
      "Val Phase: 100%|██████████| 21/21 [00:09<00:00,  2.10it/s]\n"
     ]
    },
    {
     "name": "stdout",
     "output_type": "stream",
     "text": [
      "val Loss: 0.42859 Accuracy: 0.82923\n",
      "Val AUROC: 0.96381\n",
      "Epoch 38: 95.544s\n",
      "\n",
      "Epoch 39 / 99\n",
      "--------------------\n"
     ]
    },
    {
     "name": "stderr",
     "output_type": "stream",
     "text": [
      "Train Phase: 100%|██████████| 143/143 [01:25<00:00,  1.68it/s]\n"
     ]
    },
    {
     "name": "stdout",
     "output_type": "stream",
     "text": [
      "train Loss: 0.30432 Accuracy: 0.88115\n",
      "Train AUROC: 0.98102\n"
     ]
    },
    {
     "name": "stderr",
     "output_type": "stream",
     "text": [
      "Val Phase: 100%|██████████| 21/21 [00:08<00:00,  2.57it/s]\n"
     ]
    },
    {
     "name": "stdout",
     "output_type": "stream",
     "text": [
      "val Loss: 0.39346 Accuracy: 0.81445\n",
      "Val AUROC: 0.96621\n",
      "Epoch 39: 93.414s\n",
      "\n",
      "Epoch 40 / 99\n",
      "--------------------\n"
     ]
    },
    {
     "name": "stderr",
     "output_type": "stream",
     "text": [
      "Train Phase: 100%|██████████| 143/143 [01:25<00:00,  1.67it/s]\n"
     ]
    },
    {
     "name": "stdout",
     "output_type": "stream",
     "text": [
      "train Loss: 0.27185 Accuracy: 0.88889\n",
      "Train AUROC: 0.98413\n"
     ]
    },
    {
     "name": "stderr",
     "output_type": "stream",
     "text": [
      "Val Phase: 100%|██████████| 21/21 [00:10<00:00,  2.08it/s]\n"
     ]
    },
    {
     "name": "stdout",
     "output_type": "stream",
     "text": [
      "val Loss: 0.49045 Accuracy: 0.79803\n",
      "Val AUROC: 0.95765\n",
      "Epoch 40: 96.467s\n",
      "\n",
      "Epoch 41 / 99\n",
      "--------------------\n"
     ]
    },
    {
     "name": "stderr",
     "output_type": "stream",
     "text": [
      "Train Phase: 100%|██████████| 143/143 [01:25<00:00,  1.68it/s]\n"
     ]
    },
    {
     "name": "stdout",
     "output_type": "stream",
     "text": [
      "train Loss: 0.24684 Accuracy: 0.90670\n",
      "Train AUROC: 0.98769\n"
     ]
    },
    {
     "name": "stderr",
     "output_type": "stream",
     "text": [
      "Val Phase: 100%|██████████| 21/21 [00:08<00:00,  2.38it/s]\n"
     ]
    },
    {
     "name": "stdout",
     "output_type": "stream",
     "text": [
      "val Loss: 0.41325 Accuracy: 0.82102\n",
      "Val AUROC: 0.96387\n",
      "Epoch 41: 94.236s\n",
      "\n",
      "Epoch 42 / 99\n",
      "--------------------\n"
     ]
    },
    {
     "name": "stderr",
     "output_type": "stream",
     "text": [
      "Train Phase: 100%|██████████| 143/143 [01:25<00:00,  1.68it/s]\n"
     ]
    },
    {
     "name": "stdout",
     "output_type": "stream",
     "text": [
      "train Loss: 0.25828 Accuracy: 0.90506\n",
      "Train AUROC: 0.98656\n"
     ]
    },
    {
     "name": "stderr",
     "output_type": "stream",
     "text": [
      "Val Phase: 100%|██████████| 21/21 [00:09<00:00,  2.18it/s]\n"
     ]
    },
    {
     "name": "stdout",
     "output_type": "stream",
     "text": [
      "val Loss: 0.46920 Accuracy: 0.81445\n",
      "Val AUROC: 0.96104\n",
      "Epoch 42: 94.801s\n",
      "\n",
      "Epoch 43 / 99\n",
      "--------------------\n"
     ]
    },
    {
     "name": "stderr",
     "output_type": "stream",
     "text": [
      "Train Phase: 100%|██████████| 143/143 [01:25<00:00,  1.66it/s]\n"
     ]
    },
    {
     "name": "stdout",
     "output_type": "stream",
     "text": [
      "train Loss: 0.24426 Accuracy: 0.90975\n",
      "Train AUROC: 0.98753\n"
     ]
    },
    {
     "name": "stderr",
     "output_type": "stream",
     "text": [
      "Val Phase: 100%|██████████| 21/21 [00:09<00:00,  2.31it/s]\n"
     ]
    },
    {
     "name": "stdout",
     "output_type": "stream",
     "text": [
      "val Loss: 0.42696 Accuracy: 0.83251\n",
      "Val AUROC: 0.96464\n",
      "Epoch 43: 95.05s\n",
      "\n",
      "Epoch 44 / 99\n",
      "--------------------\n"
     ]
    },
    {
     "name": "stderr",
     "output_type": "stream",
     "text": [
      "Train Phase: 100%|██████████| 143/143 [01:25<00:00,  1.66it/s]\n"
     ]
    },
    {
     "name": "stdout",
     "output_type": "stream",
     "text": [
      "train Loss: 0.23303 Accuracy: 0.91210\n",
      "Train AUROC: 0.98890\n"
     ]
    },
    {
     "name": "stderr",
     "output_type": "stream",
     "text": [
      "Val Phase: 100%|██████████| 21/21 [00:10<00:00,  2.10it/s]\n"
     ]
    },
    {
     "name": "stdout",
     "output_type": "stream",
     "text": [
      "val Loss: 0.41946 Accuracy: 0.83580\n",
      "Val AUROC: 0.96506\n",
      "Epoch 44: 96.065s\n",
      "\n",
      "Epoch 45 / 99\n",
      "--------------------\n"
     ]
    },
    {
     "name": "stderr",
     "output_type": "stream",
     "text": [
      "Train Phase: 100%|██████████| 143/143 [01:26<00:00,  1.64it/s]\n"
     ]
    },
    {
     "name": "stdout",
     "output_type": "stream",
     "text": [
      "train Loss: 0.23020 Accuracy: 0.91280\n",
      "Train AUROC: 0.98913\n"
     ]
    },
    {
     "name": "stderr",
     "output_type": "stream",
     "text": [
      "Val Phase: 100%|██████████| 21/21 [00:10<00:00,  2.08it/s]\n"
     ]
    },
    {
     "name": "stdout",
     "output_type": "stream",
     "text": [
      "val Loss: 0.42705 Accuracy: 0.82266\n",
      "Val AUROC: 0.96377\n",
      "Epoch 45: 97.104s\n",
      "\n",
      "Epoch 46 / 99\n",
      "--------------------\n"
     ]
    },
    {
     "name": "stderr",
     "output_type": "stream",
     "text": [
      "Train Phase: 100%|██████████| 143/143 [01:27<00:00,  1.63it/s]\n"
     ]
    },
    {
     "name": "stdout",
     "output_type": "stream",
     "text": [
      "train Loss: 0.21700 Accuracy: 0.91983\n",
      "Train AUROC: 0.99028\n"
     ]
    },
    {
     "name": "stderr",
     "output_type": "stream",
     "text": [
      "Val Phase: 100%|██████████| 21/21 [00:08<00:00,  2.40it/s]\n"
     ]
    },
    {
     "name": "stdout",
     "output_type": "stream",
     "text": [
      "val Loss: 0.44159 Accuracy: 0.81938\n",
      "Val AUROC: 0.96425\n",
      "Epoch 46: 96.404s\n",
      "\n",
      "Epoch 47 / 99\n",
      "--------------------\n"
     ]
    },
    {
     "name": "stderr",
     "output_type": "stream",
     "text": [
      "Train Phase: 100%|██████████| 143/143 [01:26<00:00,  1.65it/s]\n"
     ]
    },
    {
     "name": "stdout",
     "output_type": "stream",
     "text": [
      "train Loss: 0.18765 Accuracy: 0.93202\n",
      "Train AUROC: 0.99270\n"
     ]
    },
    {
     "name": "stderr",
     "output_type": "stream",
     "text": [
      "Val Phase: 100%|██████████| 21/21 [00:09<00:00,  2.10it/s]\n"
     ]
    },
    {
     "name": "stdout",
     "output_type": "stream",
     "text": [
      "val Loss: 0.43641 Accuracy: 0.82266\n",
      "Val AUROC: 0.96451\n",
      "Epoch 47: 96.695s\n",
      "\n",
      "Epoch 48 / 99\n",
      "--------------------\n"
     ]
    },
    {
     "name": "stderr",
     "output_type": "stream",
     "text": [
      "Train Phase: 100%|██████████| 143/143 [01:23<00:00,  1.71it/s]\n"
     ]
    },
    {
     "name": "stdout",
     "output_type": "stream",
     "text": [
      "train Loss: 0.20198 Accuracy: 0.92499\n",
      "Train AUROC: 0.99164\n"
     ]
    },
    {
     "name": "stderr",
     "output_type": "stream",
     "text": [
      "Val Phase: 100%|██████████| 21/21 [00:08<00:00,  2.39it/s]\n"
     ]
    },
    {
     "name": "stdout",
     "output_type": "stream",
     "text": [
      "val Loss: 0.41400 Accuracy: 0.82594\n",
      "Val AUROC: 0.96697\n",
      "Epoch 48: 92.552s\n",
      "\n",
      "Epoch 49 / 99\n",
      "--------------------\n"
     ]
    },
    {
     "name": "stderr",
     "output_type": "stream",
     "text": [
      "Train Phase: 100%|██████████| 143/143 [01:26<00:00,  1.65it/s]\n"
     ]
    },
    {
     "name": "stdout",
     "output_type": "stream",
     "text": [
      "train Loss: 0.19080 Accuracy: 0.93460\n",
      "Train AUROC: 0.99269\n"
     ]
    },
    {
     "name": "stderr",
     "output_type": "stream",
     "text": [
      "Val Phase: 100%|██████████| 21/21 [00:10<00:00,  2.05it/s]\n"
     ]
    },
    {
     "name": "stdout",
     "output_type": "stream",
     "text": [
      "val Loss: 0.44813 Accuracy: 0.83908\n",
      "Val AUROC: 0.96547\n",
      "Epoch 49: 97.21s\n",
      "\n",
      "Epoch 50 / 99\n",
      "--------------------\n"
     ]
    },
    {
     "name": "stderr",
     "output_type": "stream",
     "text": [
      "Train Phase: 100%|██████████| 143/143 [01:24<00:00,  1.70it/s]\n"
     ]
    },
    {
     "name": "stdout",
     "output_type": "stream",
     "text": [
      "train Loss: 0.16912 Accuracy: 0.94187\n",
      "Train AUROC: 0.99451\n"
     ]
    },
    {
     "name": "stderr",
     "output_type": "stream",
     "text": [
      "Val Phase: 100%|██████████| 21/21 [00:08<00:00,  2.39it/s]\n"
     ]
    },
    {
     "name": "stdout",
     "output_type": "stream",
     "text": [
      "val Loss: 0.42609 Accuracy: 0.82594\n",
      "Val AUROC: 0.96646\n",
      "Epoch 50: 93.806s\n",
      "\n",
      "Epoch 51 / 99\n",
      "--------------------\n"
     ]
    },
    {
     "name": "stderr",
     "output_type": "stream",
     "text": [
      "Train Phase: 100%|██████████| 143/143 [01:27<00:00,  1.63it/s]\n"
     ]
    },
    {
     "name": "stdout",
     "output_type": "stream",
     "text": [
      "train Loss: 0.17658 Accuracy: 0.93812\n",
      "Train AUROC: 0.99410\n"
     ]
    },
    {
     "name": "stderr",
     "output_type": "stream",
     "text": [
      "Val Phase: 100%|██████████| 21/21 [00:10<00:00,  2.06it/s]\n"
     ]
    },
    {
     "name": "stdout",
     "output_type": "stream",
     "text": [
      "val Loss: 0.44115 Accuracy: 0.82923\n",
      "Val AUROC: 0.96482\n",
      "Epoch 51: 97.92s\n",
      "\n",
      "Epoch 52 / 99\n",
      "--------------------\n"
     ]
    },
    {
     "name": "stderr",
     "output_type": "stream",
     "text": [
      "Train Phase: 100%|██████████| 143/143 [01:26<00:00,  1.66it/s]\n"
     ]
    },
    {
     "name": "stdout",
     "output_type": "stream",
     "text": [
      "train Loss: 0.15749 Accuracy: 0.94444\n",
      "Train AUROC: 0.99505\n"
     ]
    },
    {
     "name": "stderr",
     "output_type": "stream",
     "text": [
      "Val Phase: 100%|██████████| 21/21 [00:10<00:00,  2.07it/s]\n"
     ]
    },
    {
     "name": "stdout",
     "output_type": "stream",
     "text": [
      "val Loss: 0.48757 Accuracy: 0.81938\n",
      "Val AUROC: 0.96281\n",
      "Epoch 52: 96.216s\n",
      "\n",
      "Epoch 53 / 99\n",
      "--------------------\n"
     ]
    },
    {
     "name": "stderr",
     "output_type": "stream",
     "text": [
      "Train Phase: 100%|██████████| 143/143 [01:26<00:00,  1.66it/s]\n"
     ]
    },
    {
     "name": "stdout",
     "output_type": "stream",
     "text": [
      "train Loss: 0.14820 Accuracy: 0.94679\n",
      "Train AUROC: 0.99564\n"
     ]
    },
    {
     "name": "stderr",
     "output_type": "stream",
     "text": [
      "Val Phase: 100%|██████████| 21/21 [00:09<00:00,  2.21it/s]\n"
     ]
    },
    {
     "name": "stdout",
     "output_type": "stream",
     "text": [
      "val Loss: 0.49718 Accuracy: 0.82923\n",
      "Val AUROC: 0.96337\n",
      "Epoch 53: 95.837s\n",
      "\n",
      "Epoch 54 / 99\n",
      "--------------------\n"
     ]
    },
    {
     "name": "stderr",
     "output_type": "stream",
     "text": [
      "Train Phase: 100%|██████████| 143/143 [01:27<00:00,  1.64it/s]\n"
     ]
    },
    {
     "name": "stdout",
     "output_type": "stream",
     "text": [
      "train Loss: 0.15936 Accuracy: 0.94140\n",
      "Train AUROC: 0.99462\n"
     ]
    },
    {
     "name": "stderr",
     "output_type": "stream",
     "text": [
      "Val Phase: 100%|██████████| 21/21 [00:08<00:00,  2.39it/s]\n"
     ]
    },
    {
     "name": "stdout",
     "output_type": "stream",
     "text": [
      "val Loss: 0.47183 Accuracy: 0.82266\n",
      "Val AUROC: 0.96315\n",
      "Epoch 54: 96.148s\n",
      "\n",
      "Epoch 55 / 99\n",
      "--------------------\n"
     ]
    },
    {
     "name": "stderr",
     "output_type": "stream",
     "text": [
      "Train Phase: 100%|██████████| 143/143 [01:16<00:00,  1.87it/s]\n"
     ]
    },
    {
     "name": "stdout",
     "output_type": "stream",
     "text": [
      "train Loss: 0.14509 Accuracy: 0.94890\n",
      "Train AUROC: 0.99584\n"
     ]
    },
    {
     "name": "stderr",
     "output_type": "stream",
     "text": [
      "Val Phase: 100%|██████████| 21/21 [00:08<00:00,  2.56it/s]\n"
     ]
    },
    {
     "name": "stdout",
     "output_type": "stream",
     "text": [
      "val Loss: 0.48572 Accuracy: 0.83251\n",
      "Val AUROC: 0.96368\n",
      "Epoch 55: 84.784s\n",
      "\n",
      "Epoch 56 / 99\n",
      "--------------------\n"
     ]
    },
    {
     "name": "stderr",
     "output_type": "stream",
     "text": [
      "Train Phase: 100%|██████████| 143/143 [01:17<00:00,  1.84it/s]\n"
     ]
    },
    {
     "name": "stdout",
     "output_type": "stream",
     "text": [
      "train Loss: 0.13996 Accuracy: 0.94820\n",
      "Train AUROC: 0.99603\n"
     ]
    },
    {
     "name": "stderr",
     "output_type": "stream",
     "text": [
      "Val Phase: 100%|██████████| 21/21 [00:08<00:00,  2.61it/s]\n"
     ]
    },
    {
     "name": "stdout",
     "output_type": "stream",
     "text": [
      "val Loss: 0.45216 Accuracy: 0.83744\n",
      "Val AUROC: 0.96563\n",
      "Epoch 56: 85.98s\n",
      "\n",
      "Epoch 57 / 99\n",
      "--------------------\n"
     ]
    },
    {
     "name": "stderr",
     "output_type": "stream",
     "text": [
      "Train Phase: 100%|██████████| 143/143 [01:19<00:00,  1.79it/s]\n"
     ]
    },
    {
     "name": "stdout",
     "output_type": "stream",
     "text": [
      "train Loss: 0.13335 Accuracy: 0.95007\n",
      "Train AUROC: 0.99659\n"
     ]
    },
    {
     "name": "stderr",
     "output_type": "stream",
     "text": [
      "Val Phase: 100%|██████████| 21/21 [00:07<00:00,  2.73it/s]\n"
     ]
    },
    {
     "name": "stdout",
     "output_type": "stream",
     "text": [
      "val Loss: 0.47626 Accuracy: 0.83744\n",
      "Val AUROC: 0.96435\n",
      "Epoch 57: 87.553s\n",
      "\n",
      "Epoch 58 / 99\n",
      "--------------------\n"
     ]
    },
    {
     "name": "stderr",
     "output_type": "stream",
     "text": [
      "Train Phase: 100%|██████████| 143/143 [01:21<00:00,  1.75it/s]\n"
     ]
    },
    {
     "name": "stdout",
     "output_type": "stream",
     "text": [
      "train Loss: 0.11653 Accuracy: 0.96085\n",
      "Train AUROC: 0.99726\n"
     ]
    },
    {
     "name": "stderr",
     "output_type": "stream",
     "text": [
      "Val Phase: 100%|██████████| 21/21 [00:09<00:00,  2.30it/s]\n"
     ]
    },
    {
     "name": "stdout",
     "output_type": "stream",
     "text": [
      "val Loss: 0.49683 Accuracy: 0.82594\n",
      "Val AUROC: 0.96454\n",
      "Epoch 58: 90.956s\n",
      "\n",
      "Epoch 59 / 99\n",
      "--------------------\n"
     ]
    },
    {
     "name": "stderr",
     "output_type": "stream",
     "text": [
      "Train Phase: 100%|██████████| 143/143 [01:17<00:00,  1.85it/s]\n"
     ]
    },
    {
     "name": "stdout",
     "output_type": "stream",
     "text": [
      "train Loss: 0.12769 Accuracy: 0.95663\n",
      "Train AUROC: 0.99669\n"
     ]
    },
    {
     "name": "stderr",
     "output_type": "stream",
     "text": [
      "Val Phase: 100%|██████████| 21/21 [00:07<00:00,  2.83it/s]\n"
     ]
    },
    {
     "name": "stdout",
     "output_type": "stream",
     "text": [
      "val Loss: 0.47128 Accuracy: 0.83744\n",
      "Val AUROC: 0.96509\n",
      "Epoch 59: 84.874s\n",
      "\n",
      "Epoch 60 / 99\n",
      "--------------------\n"
     ]
    },
    {
     "name": "stderr",
     "output_type": "stream",
     "text": [
      "Train Phase: 100%|██████████| 143/143 [01:17<00:00,  1.84it/s]\n"
     ]
    },
    {
     "name": "stdout",
     "output_type": "stream",
     "text": [
      "train Loss: 0.12024 Accuracy: 0.95851\n",
      "Train AUROC: 0.99715\n"
     ]
    },
    {
     "name": "stderr",
     "output_type": "stream",
     "text": [
      "Val Phase: 100%|██████████| 21/21 [00:08<00:00,  2.58it/s]\n"
     ]
    },
    {
     "name": "stdout",
     "output_type": "stream",
     "text": [
      "val Loss: 0.47143 Accuracy: 0.83580\n",
      "Val AUROC: 0.96493\n",
      "Epoch 60: 86.31s\n",
      "\n",
      "Epoch 61 / 99\n",
      "--------------------\n"
     ]
    },
    {
     "name": "stderr",
     "output_type": "stream",
     "text": [
      "Train Phase: 100%|██████████| 143/143 [01:20<00:00,  1.77it/s]\n"
     ]
    },
    {
     "name": "stdout",
     "output_type": "stream",
     "text": [
      "train Loss: 0.12146 Accuracy: 0.95546\n",
      "Train AUROC: 0.99720\n"
     ]
    },
    {
     "name": "stderr",
     "output_type": "stream",
     "text": [
      "Val Phase: 100%|██████████| 21/21 [00:07<00:00,  2.64it/s]\n"
     ]
    },
    {
     "name": "stdout",
     "output_type": "stream",
     "text": [
      "val Loss: 0.52380 Accuracy: 0.82102\n",
      "Val AUROC: 0.96089\n",
      "Epoch 61: 88.774s\n",
      "\n",
      "Epoch 62 / 99\n",
      "--------------------\n"
     ]
    },
    {
     "name": "stderr",
     "output_type": "stream",
     "text": [
      "Train Phase: 100%|██████████| 143/143 [01:20<00:00,  1.78it/s]\n"
     ]
    },
    {
     "name": "stdout",
     "output_type": "stream",
     "text": [
      "train Loss: 0.09847 Accuracy: 0.96882\n",
      "Train AUROC: 0.99805\n"
     ]
    },
    {
     "name": "stderr",
     "output_type": "stream",
     "text": [
      "Val Phase: 100%|██████████| 21/21 [00:09<00:00,  2.17it/s]\n"
     ]
    },
    {
     "name": "stdout",
     "output_type": "stream",
     "text": [
      "val Loss: 0.49132 Accuracy: 0.82923\n",
      "Val AUROC: 0.96488\n",
      "Epoch 62: 90.256s\n",
      "\n",
      "Epoch 63 / 99\n",
      "--------------------\n"
     ]
    },
    {
     "name": "stderr",
     "output_type": "stream",
     "text": [
      "Train Phase: 100%|██████████| 143/143 [01:21<00:00,  1.76it/s]\n"
     ]
    },
    {
     "name": "stdout",
     "output_type": "stream",
     "text": [
      "train Loss: 0.11166 Accuracy: 0.96296\n",
      "Train AUROC: 0.99742\n"
     ]
    },
    {
     "name": "stderr",
     "output_type": "stream",
     "text": [
      "Val Phase: 100%|██████████| 21/21 [00:07<00:00,  2.86it/s]\n"
     ]
    },
    {
     "name": "stdout",
     "output_type": "stream",
     "text": [
      "val Loss: 0.51408 Accuracy: 0.82594\n",
      "Val AUROC: 0.96466\n",
      "Epoch 63: 88.813s\n",
      "\n",
      "Epoch 64 / 99\n",
      "--------------------\n"
     ]
    },
    {
     "name": "stderr",
     "output_type": "stream",
     "text": [
      "Train Phase: 100%|██████████| 143/143 [01:22<00:00,  1.74it/s]\n"
     ]
    },
    {
     "name": "stdout",
     "output_type": "stream",
     "text": [
      "train Loss: 0.09560 Accuracy: 0.97000\n",
      "Train AUROC: 0.99826\n"
     ]
    },
    {
     "name": "stderr",
     "output_type": "stream",
     "text": [
      "Val Phase: 100%|██████████| 21/21 [00:09<00:00,  2.17it/s]\n"
     ]
    },
    {
     "name": "stdout",
     "output_type": "stream",
     "text": [
      "val Loss: 0.51172 Accuracy: 0.82266\n",
      "Val AUROC: 0.96534\n",
      "Epoch 64: 91.757s\n",
      "\n",
      "Epoch 65 / 99\n",
      "--------------------\n"
     ]
    },
    {
     "name": "stderr",
     "output_type": "stream",
     "text": [
      "Train Phase: 100%|██████████| 143/143 [01:17<00:00,  1.85it/s]\n"
     ]
    },
    {
     "name": "stdout",
     "output_type": "stream",
     "text": [
      "train Loss: 0.09442 Accuracy: 0.96882\n",
      "Train AUROC: 0.99828\n"
     ]
    },
    {
     "name": "stderr",
     "output_type": "stream",
     "text": [
      "Val Phase: 100%|██████████| 21/21 [00:07<00:00,  2.84it/s]\n"
     ]
    },
    {
     "name": "stdout",
     "output_type": "stream",
     "text": [
      "val Loss: 0.51088 Accuracy: 0.82923\n",
      "Val AUROC: 0.96442\n",
      "Epoch 65: 84.868s\n",
      "\n",
      "Epoch 66 / 99\n",
      "--------------------\n"
     ]
    },
    {
     "name": "stderr",
     "output_type": "stream",
     "text": [
      "Train Phase: 100%|██████████| 143/143 [01:21<00:00,  1.75it/s]\n"
     ]
    },
    {
     "name": "stdout",
     "output_type": "stream",
     "text": [
      "train Loss: 0.09600 Accuracy: 0.96906\n",
      "Train AUROC: 0.99820\n"
     ]
    },
    {
     "name": "stderr",
     "output_type": "stream",
     "text": [
      "Val Phase: 100%|██████████| 21/21 [00:09<00:00,  2.21it/s]\n"
     ]
    },
    {
     "name": "stdout",
     "output_type": "stream",
     "text": [
      "val Loss: 0.51395 Accuracy: 0.82759\n",
      "Val AUROC: 0.96468\n",
      "Epoch 66: 91.388s\n",
      "\n",
      "Epoch 67 / 99\n",
      "--------------------\n"
     ]
    },
    {
     "name": "stderr",
     "output_type": "stream",
     "text": [
      "Train Phase: 100%|██████████| 143/143 [01:16<00:00,  1.86it/s]\n"
     ]
    },
    {
     "name": "stdout",
     "output_type": "stream",
     "text": [
      "train Loss: 0.09545 Accuracy: 0.96601\n",
      "Train AUROC: 0.99824\n"
     ]
    },
    {
     "name": "stderr",
     "output_type": "stream",
     "text": [
      "Val Phase: 100%|██████████| 21/21 [00:07<00:00,  2.67it/s]\n"
     ]
    },
    {
     "name": "stdout",
     "output_type": "stream",
     "text": [
      "val Loss: 0.49812 Accuracy: 0.82759\n",
      "Val AUROC: 0.96695\n",
      "Epoch 67: 84.667s\n",
      "\n",
      "Epoch 68 / 99\n",
      "--------------------\n"
     ]
    },
    {
     "name": "stderr",
     "output_type": "stream",
     "text": [
      "Train Phase: 100%|██████████| 143/143 [01:15<00:00,  1.90it/s]\n"
     ]
    },
    {
     "name": "stdout",
     "output_type": "stream",
     "text": [
      "train Loss: 0.08300 Accuracy: 0.97281\n",
      "Train AUROC: 0.99873\n"
     ]
    },
    {
     "name": "stderr",
     "output_type": "stream",
     "text": [
      "Val Phase: 100%|██████████| 21/21 [00:07<00:00,  2.87it/s]\n"
     ]
    },
    {
     "name": "stdout",
     "output_type": "stream",
     "text": [
      "val Loss: 0.51868 Accuracy: 0.83087\n",
      "Val AUROC: 0.96522\n",
      "Epoch 68: 82.7s\n",
      "\n",
      "Epoch 69 / 99\n",
      "--------------------\n"
     ]
    },
    {
     "name": "stderr",
     "output_type": "stream",
     "text": [
      "Train Phase: 100%|██████████| 143/143 [01:21<00:00,  1.76it/s]\n"
     ]
    },
    {
     "name": "stdout",
     "output_type": "stream",
     "text": [
      "train Loss: 0.08693 Accuracy: 0.96859\n",
      "Train AUROC: 0.99867\n"
     ]
    },
    {
     "name": "stderr",
     "output_type": "stream",
     "text": [
      "Val Phase: 100%|██████████| 21/21 [00:10<00:00,  2.04it/s]\n"
     ]
    },
    {
     "name": "stdout",
     "output_type": "stream",
     "text": [
      "val Loss: 0.54469 Accuracy: 0.83415\n",
      "Val AUROC: 0.96119\n",
      "Epoch 69: 91.445s\n",
      "\n",
      "Epoch 70 / 99\n",
      "--------------------\n"
     ]
    },
    {
     "name": "stderr",
     "output_type": "stream",
     "text": [
      "Train Phase: 100%|██████████| 143/143 [01:22<00:00,  1.74it/s]\n"
     ]
    },
    {
     "name": "stdout",
     "output_type": "stream",
     "text": [
      "train Loss: 0.09514 Accuracy: 0.96624\n",
      "Train AUROC: 0.99806\n"
     ]
    },
    {
     "name": "stderr",
     "output_type": "stream",
     "text": [
      "Val Phase: 100%|██████████| 21/21 [00:08<00:00,  2.38it/s]\n"
     ]
    },
    {
     "name": "stdout",
     "output_type": "stream",
     "text": [
      "val Loss: 0.56642 Accuracy: 0.81445\n",
      "Val AUROC: 0.96145\n",
      "Epoch 70: 91.754s\n",
      "\n",
      "Epoch 71 / 99\n",
      "--------------------\n"
     ]
    },
    {
     "name": "stderr",
     "output_type": "stream",
     "text": [
      "Train Phase: 100%|██████████| 143/143 [01:27<00:00,  1.63it/s]\n"
     ]
    },
    {
     "name": "stdout",
     "output_type": "stream",
     "text": [
      "train Loss: 0.08368 Accuracy: 0.97281\n",
      "Train AUROC: 0.99851\n"
     ]
    },
    {
     "name": "stderr",
     "output_type": "stream",
     "text": [
      "Val Phase: 100%|██████████| 21/21 [00:08<00:00,  2.38it/s]\n"
     ]
    },
    {
     "name": "stdout",
     "output_type": "stream",
     "text": [
      "val Loss: 0.52631 Accuracy: 0.81609\n",
      "Val AUROC: 0.96408\n",
      "Epoch 71: 96.483s\n",
      "\n",
      "Epoch 72 / 99\n",
      "--------------------\n"
     ]
    },
    {
     "name": "stderr",
     "output_type": "stream",
     "text": [
      "Train Phase: 100%|██████████| 143/143 [01:18<00:00,  1.82it/s]\n"
     ]
    },
    {
     "name": "stdout",
     "output_type": "stream",
     "text": [
      "train Loss: 0.07850 Accuracy: 0.97492\n",
      "Train AUROC: 0.99873\n"
     ]
    },
    {
     "name": "stderr",
     "output_type": "stream",
     "text": [
      "Val Phase: 100%|██████████| 21/21 [00:08<00:00,  2.40it/s]\n"
     ]
    },
    {
     "name": "stdout",
     "output_type": "stream",
     "text": [
      "val Loss: 0.50972 Accuracy: 0.83087\n",
      "Val AUROC: 0.96505\n",
      "Epoch 72: 87.178s\n",
      "\n",
      "Epoch 73 / 99\n",
      "--------------------\n"
     ]
    },
    {
     "name": "stderr",
     "output_type": "stream",
     "text": [
      "Train Phase: 100%|██████████| 143/143 [01:27<00:00,  1.63it/s]\n"
     ]
    },
    {
     "name": "stdout",
     "output_type": "stream",
     "text": [
      "train Loss: 0.06710 Accuracy: 0.97656\n",
      "Train AUROC: 0.99909\n"
     ]
    },
    {
     "name": "stderr",
     "output_type": "stream",
     "text": [
      "Val Phase: 100%|██████████| 21/21 [00:10<00:00,  1.99it/s]\n"
     ]
    },
    {
     "name": "stdout",
     "output_type": "stream",
     "text": [
      "val Loss: 0.53738 Accuracy: 0.81938\n",
      "Val AUROC: 0.96320\n",
      "Epoch 73: 98.231s\n",
      "\n",
      "Epoch 74 / 99\n",
      "--------------------\n"
     ]
    },
    {
     "name": "stderr",
     "output_type": "stream",
     "text": [
      "Train Phase: 100%|██████████| 143/143 [01:18<00:00,  1.81it/s]\n"
     ]
    },
    {
     "name": "stdout",
     "output_type": "stream",
     "text": [
      "train Loss: 0.08406 Accuracy: 0.97000\n",
      "Train AUROC: 0.99860\n"
     ]
    },
    {
     "name": "stderr",
     "output_type": "stream",
     "text": [
      "Val Phase: 100%|██████████| 21/21 [00:09<00:00,  2.25it/s]\n"
     ]
    },
    {
     "name": "stdout",
     "output_type": "stream",
     "text": [
      "val Loss: 0.51976 Accuracy: 0.82430\n",
      "Val AUROC: 0.96494\n",
      "Epoch 74: 88.297s\n",
      "\n",
      "Epoch 75 / 99\n",
      "--------------------\n"
     ]
    },
    {
     "name": "stderr",
     "output_type": "stream",
     "text": [
      "Train Phase: 100%|██████████| 143/143 [01:24<00:00,  1.70it/s]\n"
     ]
    },
    {
     "name": "stdout",
     "output_type": "stream",
     "text": [
      "train Loss: 0.06319 Accuracy: 0.98078\n",
      "Train AUROC: 0.99928\n"
     ]
    },
    {
     "name": "stderr",
     "output_type": "stream",
     "text": [
      "Val Phase: 100%|██████████| 21/21 [00:09<00:00,  2.17it/s]\n"
     ]
    },
    {
     "name": "stdout",
     "output_type": "stream",
     "text": [
      "val Loss: 0.51546 Accuracy: 0.82923\n",
      "Val AUROC: 0.96665\n",
      "Epoch 75: 94.086s\n",
      "\n",
      "Epoch 76 / 99\n",
      "--------------------\n"
     ]
    },
    {
     "name": "stderr",
     "output_type": "stream",
     "text": [
      "Train Phase: 100%|██████████| 143/143 [01:17<00:00,  1.85it/s]\n"
     ]
    },
    {
     "name": "stdout",
     "output_type": "stream",
     "text": [
      "train Loss: 0.06667 Accuracy: 0.97890\n",
      "Train AUROC: 0.99910\n"
     ]
    },
    {
     "name": "stderr",
     "output_type": "stream",
     "text": [
      "Val Phase: 100%|██████████| 21/21 [00:08<00:00,  2.45it/s]\n"
     ]
    },
    {
     "name": "stdout",
     "output_type": "stream",
     "text": [
      "val Loss: 0.52229 Accuracy: 0.83744\n",
      "Val AUROC: 0.96630\n",
      "Epoch 76: 85.75s\n",
      "\n",
      "Epoch 77 / 99\n",
      "--------------------\n"
     ]
    },
    {
     "name": "stderr",
     "output_type": "stream",
     "text": [
      "Train Phase: 100%|██████████| 143/143 [01:18<00:00,  1.81it/s]\n"
     ]
    },
    {
     "name": "stdout",
     "output_type": "stream",
     "text": [
      "train Loss: 0.07259 Accuracy: 0.97562\n",
      "Train AUROC: 0.99892\n"
     ]
    },
    {
     "name": "stderr",
     "output_type": "stream",
     "text": [
      "Val Phase: 100%|██████████| 21/21 [00:08<00:00,  2.59it/s]\n"
     ]
    },
    {
     "name": "stdout",
     "output_type": "stream",
     "text": [
      "val Loss: 0.52673 Accuracy: 0.83908\n",
      "Val AUROC: 0.96660\n",
      "Epoch 77: 87.029s\n",
      "\n",
      "Epoch 78 / 99\n",
      "--------------------\n"
     ]
    },
    {
     "name": "stderr",
     "output_type": "stream",
     "text": [
      "Train Phase: 100%|██████████| 143/143 [01:17<00:00,  1.84it/s]\n"
     ]
    },
    {
     "name": "stdout",
     "output_type": "stream",
     "text": [
      "train Loss: 0.06881 Accuracy: 0.97656\n",
      "Train AUROC: 0.99901\n"
     ]
    },
    {
     "name": "stderr",
     "output_type": "stream",
     "text": [
      "Val Phase: 100%|██████████| 21/21 [00:08<00:00,  2.52it/s]\n"
     ]
    },
    {
     "name": "stdout",
     "output_type": "stream",
     "text": [
      "val Loss: 0.55055 Accuracy: 0.83087\n",
      "Val AUROC: 0.96420\n",
      "Epoch 78: 86.162s\n",
      "\n",
      "Epoch 79 / 99\n",
      "--------------------\n"
     ]
    },
    {
     "name": "stderr",
     "output_type": "stream",
     "text": [
      "Train Phase: 100%|██████████| 143/143 [01:23<00:00,  1.71it/s]\n"
     ]
    },
    {
     "name": "stdout",
     "output_type": "stream",
     "text": [
      "train Loss: 0.06861 Accuracy: 0.97726\n",
      "Train AUROC: 0.99894\n"
     ]
    },
    {
     "name": "stderr",
     "output_type": "stream",
     "text": [
      "Val Phase: 100%|██████████| 21/21 [00:10<00:00,  2.07it/s]\n"
     ]
    },
    {
     "name": "stdout",
     "output_type": "stream",
     "text": [
      "val Loss: 0.54975 Accuracy: 0.82594\n",
      "Val AUROC: 0.96412\n",
      "Epoch 79: 93.934s\n",
      "\n",
      "Epoch 80 / 99\n",
      "--------------------\n"
     ]
    },
    {
     "name": "stderr",
     "output_type": "stream",
     "text": [
      "Train Phase: 100%|██████████| 143/143 [01:21<00:00,  1.76it/s]\n"
     ]
    },
    {
     "name": "stdout",
     "output_type": "stream",
     "text": [
      "train Loss: 0.06671 Accuracy: 0.97750\n",
      "Train AUROC: 0.99909\n"
     ]
    },
    {
     "name": "stderr",
     "output_type": "stream",
     "text": [
      "Val Phase: 100%|██████████| 21/21 [00:08<00:00,  2.34it/s]\n"
     ]
    },
    {
     "name": "stdout",
     "output_type": "stream",
     "text": [
      "val Loss: 0.55124 Accuracy: 0.82594\n",
      "Val AUROC: 0.96351\n",
      "Epoch 80: 90.637s\n",
      "\n",
      "Epoch 81 / 99\n",
      "--------------------\n"
     ]
    },
    {
     "name": "stderr",
     "output_type": "stream",
     "text": [
      "Train Phase: 100%|██████████| 143/143 [01:27<00:00,  1.64it/s]\n"
     ]
    },
    {
     "name": "stdout",
     "output_type": "stream",
     "text": [
      "train Loss: 0.06120 Accuracy: 0.98312\n",
      "Train AUROC: 0.99926\n"
     ]
    },
    {
     "name": "stderr",
     "output_type": "stream",
     "text": [
      "Val Phase: 100%|██████████| 21/21 [00:10<00:00,  2.04it/s]\n"
     ]
    },
    {
     "name": "stdout",
     "output_type": "stream",
     "text": [
      "val Loss: 0.55836 Accuracy: 0.82923\n",
      "Val AUROC: 0.96270\n",
      "Epoch 81: 97.459s\n",
      "\n",
      "Epoch 82 / 99\n",
      "--------------------\n"
     ]
    },
    {
     "name": "stderr",
     "output_type": "stream",
     "text": [
      "Train Phase: 100%|██████████| 143/143 [01:27<00:00,  1.64it/s]\n"
     ]
    },
    {
     "name": "stdout",
     "output_type": "stream",
     "text": [
      "train Loss: 0.06393 Accuracy: 0.97914\n",
      "Train AUROC: 0.99919\n"
     ]
    },
    {
     "name": "stderr",
     "output_type": "stream",
     "text": [
      "Val Phase: 100%|██████████| 21/21 [00:10<00:00,  2.01it/s]\n"
     ]
    },
    {
     "name": "stdout",
     "output_type": "stream",
     "text": [
      "val Loss: 0.55678 Accuracy: 0.82430\n",
      "Val AUROC: 0.96346\n",
      "Epoch 82: 97.884s\n",
      "\n",
      "Epoch 83 / 99\n",
      "--------------------\n"
     ]
    },
    {
     "name": "stderr",
     "output_type": "stream",
     "text": [
      "Train Phase: 100%|██████████| 143/143 [01:26<00:00,  1.65it/s]\n"
     ]
    },
    {
     "name": "stdout",
     "output_type": "stream",
     "text": [
      "train Loss: 0.06361 Accuracy: 0.98101\n",
      "Train AUROC: 0.99905\n"
     ]
    },
    {
     "name": "stderr",
     "output_type": "stream",
     "text": [
      "Val Phase: 100%|██████████| 21/21 [00:09<00:00,  2.13it/s]\n"
     ]
    },
    {
     "name": "stdout",
     "output_type": "stream",
     "text": [
      "val Loss: 0.55106 Accuracy: 0.82594\n",
      "Val AUROC: 0.96485\n",
      "Epoch 83: 96.38s\n",
      "\n",
      "Epoch 84 / 99\n",
      "--------------------\n"
     ]
    },
    {
     "name": "stderr",
     "output_type": "stream",
     "text": [
      "Train Phase: 100%|██████████| 143/143 [01:27<00:00,  1.63it/s]\n"
     ]
    },
    {
     "name": "stdout",
     "output_type": "stream",
     "text": [
      "train Loss: 0.06470 Accuracy: 0.98031\n",
      "Train AUROC: 0.99924\n"
     ]
    },
    {
     "name": "stderr",
     "output_type": "stream",
     "text": [
      "Val Phase: 100%|██████████| 21/21 [00:09<00:00,  2.26it/s]\n"
     ]
    },
    {
     "name": "stdout",
     "output_type": "stream",
     "text": [
      "val Loss: 0.53055 Accuracy: 0.83415\n",
      "Val AUROC: 0.96573\n",
      "Epoch 84: 96.895s\n",
      "\n",
      "Epoch 85 / 99\n",
      "--------------------\n"
     ]
    },
    {
     "name": "stderr",
     "output_type": "stream",
     "text": [
      "Train Phase: 100%|██████████| 143/143 [01:29<00:00,  1.60it/s]\n"
     ]
    },
    {
     "name": "stdout",
     "output_type": "stream",
     "text": [
      "train Loss: 0.06799 Accuracy: 0.97726\n",
      "Train AUROC: 0.99911\n"
     ]
    },
    {
     "name": "stderr",
     "output_type": "stream",
     "text": [
      "Val Phase: 100%|██████████| 21/21 [00:10<00:00,  2.08it/s]\n"
     ]
    },
    {
     "name": "stdout",
     "output_type": "stream",
     "text": [
      "val Loss: 0.54564 Accuracy: 0.82923\n",
      "Val AUROC: 0.96530\n",
      "Epoch 85: 99.291s\n",
      "\n",
      "Epoch 86 / 99\n",
      "--------------------\n"
     ]
    },
    {
     "name": "stderr",
     "output_type": "stream",
     "text": [
      "Train Phase: 100%|██████████| 143/143 [01:28<00:00,  1.62it/s]\n"
     ]
    },
    {
     "name": "stdout",
     "output_type": "stream",
     "text": [
      "train Loss: 0.05702 Accuracy: 0.98054\n",
      "Train AUROC: 0.99940\n"
     ]
    },
    {
     "name": "stderr",
     "output_type": "stream",
     "text": [
      "Val Phase: 100%|██████████| 21/21 [00:07<00:00,  2.74it/s]\n"
     ]
    },
    {
     "name": "stdout",
     "output_type": "stream",
     "text": [
      "val Loss: 0.54815 Accuracy: 0.83415\n",
      "Val AUROC: 0.96544\n",
      "Epoch 86: 96.079s\n",
      "\n",
      "Epoch 87 / 99\n",
      "--------------------\n"
     ]
    },
    {
     "name": "stderr",
     "output_type": "stream",
     "text": [
      "Train Phase: 100%|██████████| 143/143 [01:23<00:00,  1.72it/s]\n"
     ]
    },
    {
     "name": "stdout",
     "output_type": "stream",
     "text": [
      "train Loss: 0.05452 Accuracy: 0.98078\n",
      "Train AUROC: 0.99950\n"
     ]
    },
    {
     "name": "stderr",
     "output_type": "stream",
     "text": [
      "Val Phase: 100%|██████████| 21/21 [00:08<00:00,  2.44it/s]\n"
     ]
    },
    {
     "name": "stdout",
     "output_type": "stream",
     "text": [
      "val Loss: 0.53927 Accuracy: 0.82759\n",
      "Val AUROC: 0.96509\n",
      "Epoch 87: 91.73s\n",
      "\n",
      "Epoch 88 / 99\n",
      "--------------------\n"
     ]
    },
    {
     "name": "stderr",
     "output_type": "stream",
     "text": [
      "Train Phase: 100%|██████████| 143/143 [01:20<00:00,  1.78it/s]\n"
     ]
    },
    {
     "name": "stdout",
     "output_type": "stream",
     "text": [
      "train Loss: 0.05775 Accuracy: 0.98101\n",
      "Train AUROC: 0.99942\n"
     ]
    },
    {
     "name": "stderr",
     "output_type": "stream",
     "text": [
      "Val Phase: 100%|██████████| 21/21 [00:08<00:00,  2.60it/s]\n"
     ]
    },
    {
     "name": "stdout",
     "output_type": "stream",
     "text": [
      "val Loss: 0.52839 Accuracy: 0.83415\n",
      "Val AUROC: 0.96615\n",
      "Epoch 88: 88.665s\n",
      "\n",
      "Epoch 89 / 99\n",
      "--------------------\n"
     ]
    },
    {
     "name": "stderr",
     "output_type": "stream",
     "text": [
      "Train Phase: 100%|██████████| 143/143 [01:19<00:00,  1.79it/s]\n"
     ]
    },
    {
     "name": "stdout",
     "output_type": "stream",
     "text": [
      "train Loss: 0.05241 Accuracy: 0.98500\n",
      "Train AUROC: 0.99951\n"
     ]
    },
    {
     "name": "stderr",
     "output_type": "stream",
     "text": [
      "Val Phase: 100%|██████████| 21/21 [00:09<00:00,  2.23it/s]\n"
     ]
    },
    {
     "name": "stdout",
     "output_type": "stream",
     "text": [
      "val Loss: 0.55257 Accuracy: 0.82430\n",
      "Val AUROC: 0.96472\n",
      "Epoch 89: 89.136s\n",
      "\n",
      "Epoch 90 / 99\n",
      "--------------------\n"
     ]
    },
    {
     "name": "stderr",
     "output_type": "stream",
     "text": [
      "Train Phase: 100%|██████████| 143/143 [01:20<00:00,  1.78it/s]\n"
     ]
    },
    {
     "name": "stdout",
     "output_type": "stream",
     "text": [
      "train Loss: 0.05079 Accuracy: 0.98383\n",
      "Train AUROC: 0.99956\n"
     ]
    },
    {
     "name": "stderr",
     "output_type": "stream",
     "text": [
      "Val Phase: 100%|██████████| 21/21 [00:08<00:00,  2.51it/s]\n"
     ]
    },
    {
     "name": "stdout",
     "output_type": "stream",
     "text": [
      "val Loss: 0.55156 Accuracy: 0.82594\n",
      "Val AUROC: 0.96492\n",
      "Epoch 90: 89.59s\n",
      "\n",
      "Epoch 91 / 99\n",
      "--------------------\n"
     ]
    },
    {
     "name": "stderr",
     "output_type": "stream",
     "text": [
      "Train Phase: 100%|██████████| 143/143 [01:19<00:00,  1.79it/s]\n"
     ]
    },
    {
     "name": "stdout",
     "output_type": "stream",
     "text": [
      "train Loss: 0.05627 Accuracy: 0.98054\n",
      "Train AUROC: 0.99928\n"
     ]
    },
    {
     "name": "stderr",
     "output_type": "stream",
     "text": [
      "Val Phase: 100%|██████████| 21/21 [00:09<00:00,  2.29it/s]\n"
     ]
    },
    {
     "name": "stdout",
     "output_type": "stream",
     "text": [
      "val Loss: 0.54381 Accuracy: 0.82759\n",
      "Val AUROC: 0.96524\n",
      "Epoch 91: 89.106s\n",
      "\n",
      "Epoch 92 / 99\n",
      "--------------------\n"
     ]
    },
    {
     "name": "stderr",
     "output_type": "stream",
     "text": [
      "Train Phase: 100%|██████████| 143/143 [01:17<00:00,  1.84it/s]\n"
     ]
    },
    {
     "name": "stdout",
     "output_type": "stream",
     "text": [
      "train Loss: 0.05058 Accuracy: 0.98289\n",
      "Train AUROC: 0.99956\n"
     ]
    },
    {
     "name": "stderr",
     "output_type": "stream",
     "text": [
      "Val Phase: 100%|██████████| 21/21 [00:07<00:00,  2.67it/s]\n"
     ]
    },
    {
     "name": "stdout",
     "output_type": "stream",
     "text": [
      "val Loss: 0.54760 Accuracy: 0.82759\n",
      "Val AUROC: 0.96546\n",
      "Epoch 92: 85.5s\n",
      "\n",
      "Epoch 93 / 99\n",
      "--------------------\n"
     ]
    },
    {
     "name": "stderr",
     "output_type": "stream",
     "text": [
      "Train Phase: 100%|██████████| 143/143 [01:18<00:00,  1.83it/s]\n"
     ]
    },
    {
     "name": "stdout",
     "output_type": "stream",
     "text": [
      "train Loss: 0.05908 Accuracy: 0.98101\n",
      "Train AUROC: 0.99925\n"
     ]
    },
    {
     "name": "stderr",
     "output_type": "stream",
     "text": [
      "Val Phase: 100%|██████████| 21/21 [00:08<00:00,  2.39it/s]\n"
     ]
    },
    {
     "name": "stdout",
     "output_type": "stream",
     "text": [
      "val Loss: 0.55195 Accuracy: 0.82266\n",
      "Val AUROC: 0.96541\n",
      "Epoch 93: 86.848s\n",
      "\n",
      "Epoch 94 / 99\n",
      "--------------------\n"
     ]
    },
    {
     "name": "stderr",
     "output_type": "stream",
     "text": [
      "Train Phase: 100%|██████████| 143/143 [01:17<00:00,  1.85it/s]\n"
     ]
    },
    {
     "name": "stdout",
     "output_type": "stream",
     "text": [
      "train Loss: 0.04826 Accuracy: 0.98594\n",
      "Train AUROC: 0.99964\n"
     ]
    },
    {
     "name": "stderr",
     "output_type": "stream",
     "text": [
      "Val Phase: 100%|██████████| 21/21 [00:07<00:00,  2.71it/s]\n"
     ]
    },
    {
     "name": "stdout",
     "output_type": "stream",
     "text": [
      "val Loss: 0.55095 Accuracy: 0.82759\n",
      "Val AUROC: 0.96543\n",
      "Epoch 94: 85.243s\n",
      "\n",
      "Epoch 95 / 99\n",
      "--------------------\n"
     ]
    },
    {
     "name": "stderr",
     "output_type": "stream",
     "text": [
      "Train Phase: 100%|██████████| 143/143 [01:18<00:00,  1.83it/s]\n"
     ]
    },
    {
     "name": "stdout",
     "output_type": "stream",
     "text": [
      "train Loss: 0.05846 Accuracy: 0.98125\n",
      "Train AUROC: 0.99930\n"
     ]
    },
    {
     "name": "stderr",
     "output_type": "stream",
     "text": [
      "Val Phase: 100%|██████████| 21/21 [00:07<00:00,  2.65it/s]\n"
     ]
    },
    {
     "name": "stdout",
     "output_type": "stream",
     "text": [
      "val Loss: 0.55229 Accuracy: 0.82594\n",
      "Val AUROC: 0.96516\n",
      "Epoch 95: 86.242s\n",
      "\n",
      "Epoch 96 / 99\n",
      "--------------------\n"
     ]
    },
    {
     "name": "stderr",
     "output_type": "stream",
     "text": [
      "Train Phase: 100%|██████████| 143/143 [01:19<00:00,  1.80it/s]\n"
     ]
    },
    {
     "name": "stdout",
     "output_type": "stream",
     "text": [
      "train Loss: 0.05467 Accuracy: 0.98218\n",
      "Train AUROC: 0.99948\n"
     ]
    },
    {
     "name": "stderr",
     "output_type": "stream",
     "text": [
      "Val Phase: 100%|██████████| 21/21 [00:08<00:00,  2.35it/s]\n"
     ]
    },
    {
     "name": "stdout",
     "output_type": "stream",
     "text": [
      "val Loss: 0.55013 Accuracy: 0.82923\n",
      "Val AUROC: 0.96539\n",
      "Epoch 96: 88.228s\n",
      "\n",
      "Epoch 97 / 99\n",
      "--------------------\n"
     ]
    },
    {
     "name": "stderr",
     "output_type": "stream",
     "text": [
      "Train Phase: 100%|██████████| 143/143 [01:17<00:00,  1.84it/s]\n"
     ]
    },
    {
     "name": "stdout",
     "output_type": "stream",
     "text": [
      "train Loss: 0.05123 Accuracy: 0.98242\n",
      "Train AUROC: 0.99953\n"
     ]
    },
    {
     "name": "stderr",
     "output_type": "stream",
     "text": [
      "Val Phase: 100%|██████████| 21/21 [00:08<00:00,  2.49it/s]\n"
     ]
    },
    {
     "name": "stdout",
     "output_type": "stream",
     "text": [
      "val Loss: 0.55051 Accuracy: 0.82759\n",
      "Val AUROC: 0.96537\n",
      "Epoch 97: 85.984s\n",
      "\n",
      "Epoch 98 / 99\n",
      "--------------------\n"
     ]
    },
    {
     "name": "stderr",
     "output_type": "stream",
     "text": [
      "Train Phase: 100%|██████████| 143/143 [01:15<00:00,  1.89it/s]\n"
     ]
    },
    {
     "name": "stdout",
     "output_type": "stream",
     "text": [
      "train Loss: 0.05506 Accuracy: 0.98148\n",
      "Train AUROC: 0.99945\n"
     ]
    },
    {
     "name": "stderr",
     "output_type": "stream",
     "text": [
      "Val Phase: 100%|██████████| 21/21 [00:07<00:00,  2.69it/s]\n"
     ]
    },
    {
     "name": "stdout",
     "output_type": "stream",
     "text": [
      "val Loss: 0.54904 Accuracy: 0.82923\n",
      "Val AUROC: 0.96536\n",
      "Epoch 98: 83.325s\n",
      "\n",
      "Epoch 99 / 99\n",
      "--------------------\n"
     ]
    },
    {
     "name": "stderr",
     "output_type": "stream",
     "text": [
      "Train Phase: 100%|██████████| 143/143 [01:14<00:00,  1.91it/s]\n"
     ]
    },
    {
     "name": "stdout",
     "output_type": "stream",
     "text": [
      "train Loss: 0.05178 Accuracy: 0.98429\n",
      "Train AUROC: 0.99957\n"
     ]
    },
    {
     "name": "stderr",
     "output_type": "stream",
     "text": [
      "Val Phase: 100%|██████████| 21/21 [00:07<00:00,  2.69it/s]\n"
     ]
    },
    {
     "name": "stdout",
     "output_type": "stream",
     "text": [
      "val Loss: 0.55189 Accuracy: 0.82923\n",
      "Val AUROC: 0.96516\n",
      "Epoch 99: 82.622s\n",
      "\n",
      "Completed training in 151.000000m 4.895000s\n",
      "Best Accuracy: 0.8390804529190063, Best Loss: 0.448130024771385\n"
     ]
    },
    {
     "name": "stderr",
     "output_type": "stream",
     "text": [
      "No artists with labels found to put in legend.  Note that artists whose label start with an underscore are ignored when legend() is called with no argument.\n"
     ]
    },
    {
     "data": {
      "image/png": "[encoded data removed]",
      "text/plain": [
       "<Figure size 864x864 with 4 Axes>"
      ]
     },
     "metadata": {
      "needs_background": "light"
     },
     "output_type": "display_data"
    }
   ],
   "source": [
    "model, total_train_accuracy, total_train_loss, total_train_auroc, total_val_accuracy, total_val_loss, total_val_auroc = train(\n",
    "    model,\n",
    "    criterion,\n",
    "    optimizer,\n",
    "    scheduler,\n",
    "    num_epochs=num_epochs,\n",
    "    early_stopping=early_stopping,\n",
    "    model_checkpoint_path=model_checkpoint_path,\n",
    "    model_name=model_name,\n",
    "    tensorboard_dir=tensorboard_dir, \n",
    "    log_file_dir=log_file_dir\n",
    ")"
   ]
  },
  {
   "cell_type": "code",
   "execution_count": 16,
   "id": "9f5cb98e-57fd-4596-8c03-6fa5d64dddad",
   "metadata": {},
   "outputs": [
    {
     "name": "stdout",
     "output_type": "stream",
     "text": [
      "Sat Sep 23 15:55:35 2023       \n",
      "+---------------------------------------------------------------------------------------+\n",
      "| NVIDIA-SMI 535.98                 Driver Version: 535.98       CUDA Version: 12.2     |\n",
      "|-----------------------------------------+----------------------+----------------------+\n",
      "| GPU  Name                 Persistence-M | Bus-Id        Disp.A | Volatile Uncorr. ECC |\n",
      "| Fan  Temp   Perf          Pwr:Usage/Cap |         Memory-Usage | GPU-Util  Compute M. |\n",
      "|                                         |                      |               MIG M. |\n",
      "|=========================================+======================+======================|\n",
      "|   0  NVIDIA RTX A5000               On  | 00000000:57:00.0 Off |                  Off |\n",
      "| 30%   31C    P2              41W / 230W |   2437MiB / 24564MiB |      0%      Default |\n",
      "|                                         |                      |                  N/A |\n",
      "+-----------------------------------------+----------------------+----------------------+\n",
      "                                                                                         \n",
      "+---------------------------------------------------------------------------------------+\n",
      "| Processes:                                                                            |\n",
      "|  GPU   GI   CI        PID   Type   Process name                            GPU Memory |\n",
      "|        ID   ID                                                             Usage      |\n",
      "|=======================================================================================|\n",
      "+---------------------------------------------------------------------------------------+\n"
     ]
    }
   ],
   "source": [
    "torch.cuda.empty_cache()\n",
    "!nvidia-smi"
   ]
  },
  {
   "cell_type": "markdown",
   "id": "8a1af06d",
   "metadata": {},
   "source": [
    "## Visualize some validation set prediction results"
   ]
  },
  {
   "cell_type": "code",
   "execution_count": 17,
   "id": "bb64224d-edf5-4fcd-b3b1-4bdf0369b631",
   "metadata": {},
   "outputs": [],
   "source": [
    "def visualize_model(model, num_imgs=4):\n",
    "    was_training = model.training\n",
    "    model.eval()\n",
    "    images_so_far = 0\n",
    "\n",
    "    with torch.no_grad():\n",
    "        for i, (inputs, labels) in enumerate(image_dataloader['val']):\n",
    "            inputs = inputs.to(device)\n",
    "            labels = torch.tensor([label_map[label] for label in labels]).to(device)\n",
    "\n",
    "            outputs = model(inputs)\n",
    "            _, preds = torch.max(outputs, 1)\n",
    "\n",
    "            for j in range(inputs.size()[0]):\n",
    "                images_so_far += 1\n",
    "                ax = plt.subplot(num_imgs // 2, 2, images_so_far)\n",
    "                ax.axis('off')\n",
    "                ax.set_title('Predicted: {}'.format(image_datasets['val'].class_names[preds[j]]))\n",
    "                imshow(inputs.cpu().data[j])\n",
    "\n",
    "                if images_so_far == num_imgs:\n",
    "                    model.train(mode=was_training)\n",
    "                    return\n",
    "\n",
    "    model.train(mode=was_training)\n"
   ]
  },
  {
   "cell_type": "code",
   "execution_count": 18,
   "id": "2cfdce06",
   "metadata": {},
   "outputs": [
    {
     "data": {
      "image/png": "[encoded data removed]",
      "text/plain": [
       "<Figure size 432x288 with 1 Axes>"
      ]
     },
     "metadata": {
      "needs_background": "light"
     },
     "output_type": "display_data"
    },
    {
     "data": {
      "image/png": "[encoded data removed]",
      "text/plain": [
       "<Figure size 432x288 with 1 Axes>"
      ]
     },
     "metadata": {
      "needs_background": "light"
     },
     "output_type": "display_data"
    },
    {
     "data": {
      "image/png": "[encoded data removed]",
      "text/plain": [
       "<Figure size 432x288 with 1 Axes>"
      ]
     },
     "metadata": {
      "needs_background": "light"
     },
     "output_type": "display_data"
    },
    {
     "data": {
      "image/png": "[encoded data removed]",
      "text/plain": [
       "<Figure size 432x288 with 1 Axes>"
      ]
     },
     "metadata": {
      "needs_background": "light"
     },
     "output_type": "display_data"
    },
    {
     "data": {
      "image/png": "[encoded data removed]",
      "text/plain": [
       "<Figure size 432x288 with 1 Axes>"
      ]
     },
     "metadata": {
      "needs_background": "light"
     },
     "output_type": "display_data"
    },
    {
     "data": {
      "image/png": "[encoded data removed]",
      "text/plain": [
       "<Figure size 432x288 with 1 Axes>"
      ]
     },
     "metadata": {
      "needs_background": "light"
     },
     "output_type": "display_data"
    }
   ],
   "source": [
    "# Set up label_map \n",
    "label_map = {\n",
    "    'Blank': 0,\n",
    "    'Normal': 1,\n",
    "    'CIS': 2,\n",
    "    'MIA': 3,\n",
    "    'IA': 4\n",
    "}\n",
    "\n",
    "label_map_inv = {v: k for k, v in label_map.items()}  # Define inverse mapping\n",
    "\n",
    "visualize_model(model, num_imgs=6)\n",
    "\n",
    "plt.ioff()\n",
    "plt.show()"
   ]
  },
  {
   "cell_type": "markdown",
   "id": "386abfa9-79c9-44e7-9702-1ee106b89088",
   "metadata": {},
   "source": [
    "# Evaluation"
   ]
  },
  {
   "cell_type": "code",
   "execution_count": 19,
   "id": "f3c42ed4-0018-45c9-986d-fe2c3ad77c9c",
   "metadata": {},
   "outputs": [],
   "source": [
    "import csv\n",
    "from sklearn.metrics import confusion_matrix, classification_report, roc_auc_score, roc_curve, auc\n",
    "import matplotlib.pyplot as plt\n",
    "\n",
    "def evaluate(model, criterion, dataloader, csv_path=None):\n",
    "    model.eval()\n",
    "    loss = 0.0\n",
    "    corrects = 0\n",
    "    all_predictions = []  # List to store predicted probabilities\n",
    "    all_labels = []  # List to store true labels\n",
    "    result_rows = []  # List to store evaluation results\n",
    "\n",
    "    with torch.no_grad():\n",
    "        for inputs, labels in tqdm(dataloader, desc='Evaluation'):\n",
    "            inputs = inputs.to(device)\n",
    "            labels = torch.tensor([label_map[label] for label in labels]).to(device)  # Convert labels to numerical values\n",
    "\n",
    "            outputs = model(inputs)\n",
    "            _, preds = torch.max(outputs, 1)\n",
    "            batch_loss = criterion(outputs, labels)\n",
    "\n",
    "            loss += batch_loss.item() * inputs.size(0)\n",
    "            corrects += torch.sum(preds == labels.data)\n",
    "\n",
    "            predictions = torch.softmax(outputs, dim=1)\n",
    "            all_predictions.append(predictions.detach().cpu().numpy())\n",
    "            all_labels.append(labels.detach().cpu().numpy())\n",
    "\n",
    "            if csv_path is not None:\n",
    "                for i in range(inputs.size(0)):\n",
    "                    row = [\n",
    "                        label_map_inv[labels[i].item()],\n",
    "                        label_map_inv[preds[i].item()],\n",
    "                    ]\n",
    "                    row.extend(predictions[i].tolist())  # Add probabilities to the row\n",
    "                    result_rows.append(row)\n",
    "\n",
    "    total_loss = loss / len(dataloader.dataset)\n",
    "    accuracy = corrects.float() / len(dataloader.dataset)\n",
    "\n",
    "    all_predictions = np.concatenate(all_predictions)\n",
    "    all_labels = np.concatenate(all_labels)\n",
    "\n",
    "    if csv_path is not None:\n",
    "        with open(csv_path, 'w', newline='') as file:\n",
    "            writer = csv.writer(file)\n",
    "            header = ['True Label', 'Predicted Label']\n",
    "            header.extend([f'Probability {label}' for label in label_map_inv.values()])  # Add probability headers\n",
    "            writer.writerow(header)\n",
    "            writer.writerows(result_rows)\n",
    "\n",
    "    # Compute metrics\n",
    "    confusion = confusion_matrix(all_labels, np.argmax(all_predictions, axis=1))\n",
    "    classification = classification_report(all_labels, np.argmax(all_predictions, axis=1))\n",
    "\n",
    "    # Compute ROC AUC score (macro and weighted)\n",
    "    num_classes = all_predictions.shape[1]\n",
    "    roc_auc_macro = roc_auc_score(all_labels, all_predictions, multi_class='ovr', average='macro')\n",
    "    roc_auc_weighted = roc_auc_score(all_labels, all_predictions, multi_class='ovr', average='weighted')\n",
    "\n",
    "    # Compute ROC curve and AUROC for each class\n",
    "    fpr = dict()\n",
    "    tpr = dict()\n",
    "    roc_auc = dict()\n",
    "    for i in range(num_classes):\n",
    "        fpr[i], tpr[i], _ = roc_curve(all_labels == i, all_predictions[:, i])\n",
    "        roc_auc[i] = auc(fpr[i], tpr[i])\n",
    "\n",
    "    # Plot AUROC curve\n",
    "    plt.figure()\n",
    "    colors = ['blue', 'orange', 'green', 'red', 'brown']  # Add another color for the fourth class\n",
    "    for i, color in zip(range(num_classes), colors):\n",
    "        plt.plot(fpr[i], tpr[i], color=color, lw=2, label=f'Class {label_map_inv[i]} (AUROC = {roc_auc[i]:.2f})')\n",
    "\n",
    "    plt.plot([0, 1], [0, 1], color='gray', lw=1, linestyle='--')\n",
    "    plt.xlim([0.0, 1.0])\n",
    "    plt.ylim([0.0, 1.05])\n",
    "    plt.xlabel('False Positive Rate')\n",
    "    plt.ylabel('True Positive Rate')\n",
    "    plt.title('Receiver Operating Characteristic')\n",
    "    plt.legend(loc='lower right')\n",
    "    plt.show()\n",
    "\n",
    "    # Print the metrics\n",
    "    print(\"Confusion Matrix:\")\n",
    "    print(confusion)\n",
    "    print(\"\\nClassification Report:\")\n",
    "    print(classification)\n",
    "    print(\"\\nROC AUC (Macro): {:.5f}\".format(roc_auc_macro))\n",
    "    print(\"ROC AUC (Weighted): {:.5f}\".format(roc_auc_weighted))\n",
    "\n",
    "    return total_loss, accuracy\n"
   ]
  },
  {
   "cell_type": "code",
   "execution_count": 20,
   "id": "7723b262-9a67-4a9d-a0df-338fb0265a6e",
   "metadata": {},
   "outputs": [
    {
     "name": "stderr",
     "output_type": "stream",
     "text": [
      "/root/miniconda3/lib/python3.8/site-packages/torchvision/models/_utils.py:208: UserWarning: The parameter 'pretrained' is deprecated since 0.13 and will be removed in 0.15, please use 'weights' instead.\n",
      "  warnings.warn(\n",
      "/root/miniconda3/lib/python3.8/site-packages/torchvision/models/_utils.py:223: UserWarning: Arguments other than a weight enum or `None` for 'weights' are deprecated since 0.13 and will be removed in 0.15. The current behavior is equivalent to passing `weights=None`.\n",
      "  warnings.warn(msg)\n",
      "/root/miniconda3/lib/python3.8/site-packages/torchvision/ops/misc.py:114: UserWarning: Don't use ConvNormActivation directly, please use Conv2dNormActivation and Conv3dNormActivation instead.\n",
      "  warnings.warn(\n",
      "Evaluation: 100%|██████████| 41/41 [01:59<00:00,  2.93s/it]\n"
     ]
    },
    {
     "data": {
      "image/png": "[encoded data removed]",
      "text/plain": [
       "<Figure size 432x288 with 1 Axes>"
      ]
     },
     "metadata": {
      "needs_background": "light"
     },
     "output_type": "display_data"
    },
    {
     "name": "stdout",
     "output_type": "stream",
     "text": [
      "Confusion Matrix:\n",
      "[[271   1   0   0   0]\n",
      " [  0 166   0   0   0]\n",
      " [  1  10 149  53  15]\n",
      " [  0   0  28 132  44]\n",
      " [  0   1   8  57 284]]\n",
      "\n",
      "Classification Report:\n",
      "              precision    recall  f1-score   support\n",
      "\n",
      "           0       1.00      1.00      1.00       272\n",
      "           1       0.93      1.00      0.97       166\n",
      "           2       0.81      0.65      0.72       228\n",
      "           3       0.55      0.65      0.59       204\n",
      "           4       0.83      0.81      0.82       350\n",
      "\n",
      "    accuracy                           0.82      1220\n",
      "   macro avg       0.82      0.82      0.82      1220\n",
      "weighted avg       0.83      0.82      0.82      1220\n",
      "\n",
      "\n",
      "ROC AUC (Macro): 0.96015\n",
      "ROC AUC (Weighted): 0.96081\n",
      "Test Loss: 0.47799 Accuracy: 0.82131\n"
     ]
    }
   ],
   "source": [
    "# Evaluate the model\n",
    "model_path = '/root/autodl-nas/TXY/models/EfficientNet_b5_best_model.pt'\n",
    "model_dict = torch.load(model_path, map_location=torch.device('cuda:0' if torch.cuda.is_available() else 'cpu'))\n",
    "# print(model_dict)\n",
    "\n",
    "# Set up label_map \n",
    "label_map = {\n",
    "    'Blank': 0,\n",
    "    'Normal': 1,\n",
    "    'CIS': 2,\n",
    "    'MIA': 3,\n",
    "    'IA': 4\n",
    "}\n",
    "\n",
    "label_map_inv = {v: k for k, v in label_map.items()}  # Define inverse mapping\n",
    "\n",
    "# Modify the last fully connected layer\n",
    "num_classes = 5  # Number of classes in your dataset\n",
    "\n",
    "#Load pretrained EfficientNet_b5 model\n",
    "model = torchvision.models.efficientnet_b5(pretrained=False)\n",
    "model.features[0] = ConvNormActivation(\n",
    "    in_channels=3, \n",
    "    out_channels=48,\n",
    "    kernel_size=3,\n",
    "    stride=2,\n",
    "    norm_layer=partial(nn.BatchNorm2d, eps=0.001, momentum=0.01),\n",
    "    activation_layer=nn.SiLU)\n",
    "model.classifier = nn.Sequential(\n",
    "    nn.Dropout(p=0.5, inplace=True),\n",
    "    nn.Linear(in_features=2048, out_features=num_classes, bias=True))\n",
    "\n",
    "# Load the weight from the saved pt file\n",
    "model.load_state_dict(model_dict)\n",
    "device = torch.device('cuda' if torch.cuda.is_available() else 'cpu')\n",
    "model = model.to(device)\n",
    "criterion = nn.CrossEntropyLoss()\n",
    "\n",
    "csv_path = '/root/autodl-nas/TXY/models/test_evaluation_results.csv'  # Provide the desired path for the CSV file\n",
    "test_loss, test_accuracy = evaluate(model, criterion, image_dataloader['test'], csv_path)\n",
    "print('Test Loss: {:.5f} Accuracy: {:.5f}'.format(test_loss, test_accuracy))\n"
   ]
  },
  {
   "cell_type": "markdown",
   "id": "ff6fecbd-c91c-4db6-9ebe-c05105183485",
   "metadata": {
    "tags": []
   },
   "source": [
    "# Evaluation of the external dataset"
   ]
  },
  {
   "cell_type": "code",
   "execution_count": null,
   "id": "880f9349-91e1-4175-b23a-6ebbccafd61c",
   "metadata": {},
   "outputs": [],
   "source": [
    "# Load CSV files and get labels\n",
    "import os\n",
    "import random\n",
    "import json\n",
    "\n",
    "# Enable interactive mode\n",
    "plt.ion()\n",
    "\n",
    "# Define paths\n",
    "dataset_path = \"/root/autodl-nas/TXY/food/train\"\n",
    "labels_path = \"/root/autodl-nas/TXY/food/Training_set_food.csv\"\n",
    "\n",
    "# Define saved json file path\n",
    "csv_json_path = \"/root/autodl-nas/TXY/food/external_dataset.json\"\n",
    "\n",
    "# Load labels and file names from CSV\n",
    "import pandas as pd\n",
    "csv_file = pd.read_csv(labels_path)\n",
    "file_names = csv_file['filename'].tolist()\n",
    "\n",
    "# Calculate the number of samples\n",
    "total_samples = len(file_names)\n",
    "\n",
    "# Function to find the label for a given file name\n",
    "def find_label(file_name):\n",
    "    return csv_file.loc[csv_file['filename'] == file_name, 'label'].values[0]\n",
    "\n",
    "# Function to get the file path given the file name\n",
    "def get_file_path(file_name):\n",
    "    for root, dirs, files in os.walk(dataset_path):\n",
    "        if file_name in files:\n",
    "            return os.path.abspath(os.path.join(root, file_name))\n",
    "\n",
    "# Create dictionaries\n",
    "csv_dict = []\n",
    "\n",
    "# Fill the dictionaries with file paths and labels\n",
    "for file_name in file_names:\n",
    "    label = find_label(file_name)\n",
    "    file_path = get_file_path(file_name)  # Complete file path\n",
    "    csv_dict.append({\"file_name\": file_name, \"file_path\": file_path, \"label\": label})\n",
    "\n",
    "# Save the dictionaries as separate JSON files\n",
    "with open(csv_json_path, 'w') as csv_file:\n",
    "    json.dump(csv_dict, csv_file)\n",
    "\n",
    "# Print the summary\n",
    "print(f\"Total samples: {total_samples}\")\n",
    "print(f\"External set JSON file saved to: {csv_json_path}\")\n"
   ]
  },
  {
   "cell_type": "code",
   "execution_count": null,
   "id": "632d216d-6d2d-449a-bb63-31cc2b588e30",
   "metadata": {},
   "outputs": [],
   "source": [
    "import json\n",
    "import torch\n",
    "from torchvision import transforms, models\n",
    "from torch.utils.data import Dataset, DataLoader\n",
    "from PIL import Image\n",
    "\n",
    "# Define the transformations and augmentation for train and val sets\n",
    "val_transform = transforms.Compose([\n",
    "    transforms.Resize((224, 224)),  # Resize the image to a fixed size\n",
    "    transforms.ToTensor(),  # Convert the image to a tensor\n",
    "    transforms.Normalize(mean=mean_list, std=std_list),  # Normalize the image\n",
    "])\n",
    "\n",
    "class CustomDataset(Dataset):\n",
    "    def __init__(self, json_path, transform=None):\n",
    "        self.data = []\n",
    "        self.transform = transform\n",
    "        self.img_paths = []\n",
    "        self.labels = []\n",
    "\n",
    "        # Load the JSON file\n",
    "        with open(json_path, 'r') as f:\n",
    "            json_data = json.load(f)\n",
    "        \n",
    "        # Process each item in the JSON file\n",
    "        for item in json_data:\n",
    "            image_path = item['file_path']\n",
    "            label = item['label']\n",
    "            self.data.append((image_path, label))\n",
    "            self.img_paths.append(image_path)\n",
    "            self.labels.append(label)\n",
    "        \n",
    "        # Get the class names from the JSON file\n",
    "        self.class_names = list(set(item['label'] for item in json_data))\n",
    "    \n",
    "    def __getitem__(self, index):\n",
    "        image_path, label = self.data[index]\n",
    "        image = Image.open(image_path).convert('RGB')\n",
    "        \n",
    "        if self.transform is not None:\n",
    "            image = self.transform(image)\n",
    "        \n",
    "        return image, label\n",
    "    \n",
    "    def __len__(self):\n",
    "        return len(self.data)\n",
    "\n",
    "    \n",
    "# Set up batch size\n",
    "batch_size = 30\n",
    "\n",
    "# Create datasets and data loaders\n",
    "ex_image_datasets = CustomDataset(csv_json_path, transform=val_transform) # Use val_transform for test as an example\n",
    "ex_image_dataloader = DataLoader(ex_image_datasets, batch_size=batch_size)\n",
    "\n",
    "\n",
    "# Get the sizes of the dataset\n",
    "ex_dataset_sizes = len(ex_image_datasets)\n",
    "\n",
    "# Get the class names\n",
    "ex_class_names = ex_image_datasets.class_names\n",
    "\n",
    "# Print the sizes of the external datasets and class names\n",
    "print(\"External dataset size:\", ex_dataset_sizes)\n",
    "print(\"Class names-External set:\", ex_class_names)\n"
   ]
  },
  {
   "cell_type": "code",
   "execution_count": null,
   "id": "305db768-9a23-4154-91df-f2ea31bbcf4f",
   "metadata": {},
   "outputs": [],
   "source": [
    "# Set up label_map as the same to previous setting\n",
    "\n",
    "label_map = {\n",
    "    'Blank': 0,\n",
    "    'Normal': 1,\n",
    "    'CIS': 2,\n",
    "    'MIA': 3,\n",
    "    'IA': 4\n",
    "}\n",
    "\n",
    "label_map_inv = {v: k for k, v in label_map.items()}  # Define inverse mapping"
   ]
  },
  {
   "cell_type": "code",
   "execution_count": null,
   "id": "ac05539d-8554-4041-96c7-281282195470",
   "metadata": {},
   "outputs": [],
   "source": [
    "# Evaluate external new dataset\n",
    "\n",
    "# Evaluate the model\n",
    "model_path = '/root/autodl-nas/TXY/models/EfficientNet_b5_best_model.pt'\n",
    "model_dict = torch.load(model_path, map_location=torch.device('cuda:0' if torch.cuda.is_available() else 'cpu'))\n",
    "# print(model_dict)\n",
    "\n",
    "# Modify the last fully connected layer\n",
    "num_classes = 5  # Number of classes in your dataset\n",
    "\n",
    "#Load pretrained EfficientNet_b5 model\n",
    "model = torchvision.models.efficientnet_b5(pretrained=True)\n",
    "model.features[0] = ConvNormActivation(\n",
    "    in_channels=3, \n",
    "    out_channels=48,\n",
    "    kernel_size=3,\n",
    "    stride=2,\n",
    "    norm_layer=partial(nn.BatchNorm2d, eps=0.001, momentum=0.01),\n",
    "    activation_layer=nn.SiLU)\n",
    "model.classifier = nn.Sequential(\n",
    "    nn.Dropout(p=0.5, inplace=True),\n",
    "    nn.Linear(in_features=2048, out_features=num_classes, bias=True))\n",
    "\n",
    "# Load the weight from the saved pt file\n",
    "model.load_state_dict(model_dict)\n",
    "device = torch.device('cuda' if torch.cuda.is_available() else 'cpu')\n",
    "model = model.to(device)\n",
    "criterion = nn.CrossEntropyLoss()\n",
    "\n",
    "csv_path = '/root/autodl-nas/TXY/models/external_evaluation_results.csv'  # Provide the desired path for the CSV file\n",
    "\n",
    "# Image dataloading in the external dataset\n",
    "test_loss, test_accuracy = evaluate(model, criterion, ex_image_dataloader, csv_path)\n",
    "print('Test Loss: {:.5f} Accuracy: {:.5f}'.format(test_loss, test_accuracy))\n",
    "\n"
   ]
  },
  {
   "cell_type": "code",
   "execution_count": null,
   "id": "7f379f0e-59d4-4a18-811d-7197c9a7e475",
   "metadata": {},
   "outputs": [],
   "source": [
    "!python3 -m tensorboard.main --logdir=/root/autodl-nas/TXY/tensorbord"
   ]
  },
  {
   "cell_type": "code",
   "execution_count": null,
   "id": "f4815ffd-34de-46c5-9444-89c53434a0a6",
   "metadata": {},
   "outputs": [],
   "source": []
  }
 ],
 "metadata": {
  "kernelspec": {
   "display_name": "Python 3 (ipykernel)",
   "language": "python",
   "name": "python3"
  },
  "language_info": {
   "codemirror_mode": {
    "name": "ipython",
    "version": 3
   },
   "file_extension": ".py",
   "mimetype": "text/x-python",
   "name": "python",
   "nbconvert_exporter": "python",
   "pygments_lexer": "ipython3",
   "version": "3.8.10"
  }
 },
 "nbformat": 4,
 "nbformat_minor": 5
}
